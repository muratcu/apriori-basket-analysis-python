{
 "cells": [
  {
   "cell_type": "code",
   "execution_count": 88,
   "metadata": {},
   "outputs": [
    {
     "data": {
      "text/html": [
       "        <script type=\"text/javascript\">\n",
       "        window.PlotlyConfig = {MathJaxConfig: 'local'};\n",
       "        if (window.MathJax) {MathJax.Hub.Config({SVG: {font: \"STIX-Web\"}});}\n",
       "        if (typeof require !== 'undefined') {\n",
       "        require.undef(\"plotly\");\n",
       "        requirejs.config({\n",
       "            paths: {\n",
       "                'plotly': ['https://cdn.plot.ly/plotly-latest.min']\n",
       "            }\n",
       "        });\n",
       "        require(['plotly'], function(Plotly) {\n",
       "            window._Plotly = Plotly;\n",
       "        });\n",
       "        }\n",
       "        </script>\n",
       "        "
      ]
     },
     "metadata": {},
     "output_type": "display_data"
    }
   ],
   "source": [
    "import pandas as pd\n",
    "import numpy as np\n",
    "import matplotlib.pyplot as plt\n",
    "\n",
    "from apyori import apriori\n",
    "\n",
    "import plotly.express as px\n",
    "import plotly.graph_objs as go#visualization\n",
    "import plotly.offline as py#visualization\n",
    "import seaborn as sns\n",
    "py.init_notebook_mode(connected=True)#visualization"
   ]
  },
  {
   "cell_type": "code",
   "execution_count": 15,
   "metadata": {},
   "outputs": [],
   "source": [
    "tx_data = pd.read_excel(\"C:\\\\Users\\\\murat.cukur\\\\Desktop\\\\apriori_basket_analyses.xlsx\")"
   ]
  },
  {
   "cell_type": "code",
   "execution_count": 16,
   "metadata": {},
   "outputs": [
    {
     "data": {
      "text/html": [
       "<div>\n",
       "<style scoped>\n",
       "    .dataframe tbody tr th:only-of-type {\n",
       "        vertical-align: middle;\n",
       "    }\n",
       "\n",
       "    .dataframe tbody tr th {\n",
       "        vertical-align: top;\n",
       "    }\n",
       "\n",
       "    .dataframe thead th {\n",
       "        text-align: right;\n",
       "    }\n",
       "</style>\n",
       "<table border=\"1\" class=\"dataframe\">\n",
       "  <thead>\n",
       "    <tr style=\"text-align: right;\">\n",
       "      <th></th>\n",
       "      <th>Receipt No</th>\n",
       "      <th>Item</th>\n",
       "    </tr>\n",
       "  </thead>\n",
       "  <tbody>\n",
       "    <tr>\n",
       "      <th>0</th>\n",
       "      <td>22.887878</td>\n",
       "      <td>Toothbrush</td>\n",
       "    </tr>\n",
       "    <tr>\n",
       "      <th>1</th>\n",
       "      <td>14.356449</td>\n",
       "      <td>Toothbrush</td>\n",
       "    </tr>\n",
       "    <tr>\n",
       "      <th>2</th>\n",
       "      <td>14.447840</td>\n",
       "      <td>Cacao Powder</td>\n",
       "    </tr>\n",
       "    <tr>\n",
       "      <th>3</th>\n",
       "      <td>24.096744</td>\n",
       "      <td>Cereals</td>\n",
       "    </tr>\n",
       "    <tr>\n",
       "      <th>4</th>\n",
       "      <td>99.911576</td>\n",
       "      <td>Chocalate</td>\n",
       "    </tr>\n",
       "  </tbody>\n",
       "</table>\n",
       "</div>"
      ],
      "text/plain": [
       "   Receipt No          Item\n",
       "0   22.887878    Toothbrush\n",
       "1   14.356449    Toothbrush\n",
       "2   14.447840  Cacao Powder\n",
       "3   24.096744       Cereals\n",
       "4   99.911576     Chocalate"
      ]
     },
     "execution_count": 16,
     "metadata": {},
     "output_type": "execute_result"
    }
   ],
   "source": [
    "tx_data.head()"
   ]
  },
  {
   "cell_type": "code",
   "execution_count": 19,
   "metadata": {},
   "outputs": [],
   "source": [
    "count=tx_data.groupby(['Receipt No'])['Item'].count().reset_index()"
   ]
  },
  {
   "cell_type": "code",
   "execution_count": 21,
   "metadata": {},
   "outputs": [],
   "source": [
    "more_than_1=count[count['Item']>1]"
   ]
  },
  {
   "cell_type": "code",
   "execution_count": 23,
   "metadata": {},
   "outputs": [],
   "source": [
    "list_receipt=more_than_1['Receipt No'].tolist()"
   ]
  },
  {
   "cell_type": "code",
   "execution_count": 28,
   "metadata": {},
   "outputs": [],
   "source": [
    "df_result=tx_data[tx_data['Receipt No'].isin(list_receipt)]"
   ]
  },
  {
   "cell_type": "code",
   "execution_count": 29,
   "metadata": {},
   "outputs": [
    {
     "data": {
      "text/html": [
       "<div>\n",
       "<style scoped>\n",
       "    .dataframe tbody tr th:only-of-type {\n",
       "        vertical-align: middle;\n",
       "    }\n",
       "\n",
       "    .dataframe tbody tr th {\n",
       "        vertical-align: top;\n",
       "    }\n",
       "\n",
       "    .dataframe thead th {\n",
       "        text-align: right;\n",
       "    }\n",
       "</style>\n",
       "<table border=\"1\" class=\"dataframe\">\n",
       "  <thead>\n",
       "    <tr style=\"text-align: right;\">\n",
       "      <th></th>\n",
       "      <th>Receipt No</th>\n",
       "      <th>Item</th>\n",
       "    </tr>\n",
       "  </thead>\n",
       "  <tbody>\n",
       "    <tr>\n",
       "      <th>4</th>\n",
       "      <td>9.991158e+01</td>\n",
       "      <td>Chocalate</td>\n",
       "    </tr>\n",
       "    <tr>\n",
       "      <th>5</th>\n",
       "      <td>9.991158e+01</td>\n",
       "      <td>Toilet Paper</td>\n",
       "    </tr>\n",
       "    <tr>\n",
       "      <th>6</th>\n",
       "      <td>9.991158e+01</td>\n",
       "      <td>Baby Diaper</td>\n",
       "    </tr>\n",
       "    <tr>\n",
       "      <th>18</th>\n",
       "      <td>1.169217e+02</td>\n",
       "      <td>Eggs</td>\n",
       "    </tr>\n",
       "    <tr>\n",
       "      <th>19</th>\n",
       "      <td>1.169217e+02</td>\n",
       "      <td>Cheese</td>\n",
       "    </tr>\n",
       "    <tr>\n",
       "      <th>...</th>\n",
       "      <td>...</td>\n",
       "      <td>...</td>\n",
       "    </tr>\n",
       "    <tr>\n",
       "      <th>582631</th>\n",
       "      <td>6.163443e+09</td>\n",
       "      <td>Toothbrush</td>\n",
       "    </tr>\n",
       "    <tr>\n",
       "      <th>582632</th>\n",
       "      <td>6.163443e+09</td>\n",
       "      <td>Nuts</td>\n",
       "    </tr>\n",
       "    <tr>\n",
       "      <th>582633</th>\n",
       "      <td>6.163443e+09</td>\n",
       "      <td>Chocalate</td>\n",
       "    </tr>\n",
       "    <tr>\n",
       "      <th>582634</th>\n",
       "      <td>6.163443e+09</td>\n",
       "      <td>Coffee &amp; Tea</td>\n",
       "    </tr>\n",
       "    <tr>\n",
       "      <th>582635</th>\n",
       "      <td>6.163443e+09</td>\n",
       "      <td>Chicken &amp; Meat</td>\n",
       "    </tr>\n",
       "  </tbody>\n",
       "</table>\n",
       "<p>560672 rows × 2 columns</p>\n",
       "</div>"
      ],
      "text/plain": [
       "          Receipt No            Item\n",
       "4       9.991158e+01       Chocalate\n",
       "5       9.991158e+01    Toilet Paper\n",
       "6       9.991158e+01     Baby Diaper\n",
       "18      1.169217e+02            Eggs\n",
       "19      1.169217e+02          Cheese\n",
       "...              ...             ...\n",
       "582631  6.163443e+09      Toothbrush\n",
       "582632  6.163443e+09            Nuts\n",
       "582633  6.163443e+09       Chocalate\n",
       "582634  6.163443e+09    Coffee & Tea\n",
       "582635  6.163443e+09  Chicken & Meat\n",
       "\n",
       "[560672 rows x 2 columns]"
      ]
     },
     "execution_count": 29,
     "metadata": {},
     "output_type": "execute_result"
    }
   ],
   "source": [
    "df_result"
   ]
  },
  {
   "cell_type": "code",
   "execution_count": 37,
   "metadata": {},
   "outputs": [],
   "source": [
    "df_result=df_result.drop_duplicates([\"Receipt No\", \"Item\"])"
   ]
  },
  {
   "cell_type": "code",
   "execution_count": 38,
   "metadata": {},
   "outputs": [],
   "source": [
    "df_result_last=df_result.groupby('Receipt No')['Item'].apply(list).reset_index(name='Basket')"
   ]
  },
  {
   "cell_type": "code",
   "execution_count": 39,
   "metadata": {},
   "outputs": [
    {
     "data": {
      "text/html": [
       "<div>\n",
       "<style scoped>\n",
       "    .dataframe tbody tr th:only-of-type {\n",
       "        vertical-align: middle;\n",
       "    }\n",
       "\n",
       "    .dataframe tbody tr th {\n",
       "        vertical-align: top;\n",
       "    }\n",
       "\n",
       "    .dataframe thead th {\n",
       "        text-align: right;\n",
       "    }\n",
       "</style>\n",
       "<table border=\"1\" class=\"dataframe\">\n",
       "  <thead>\n",
       "    <tr style=\"text-align: right;\">\n",
       "      <th></th>\n",
       "      <th>Receipt No</th>\n",
       "      <th>Basket</th>\n",
       "    </tr>\n",
       "  </thead>\n",
       "  <tbody>\n",
       "    <tr>\n",
       "      <th>0</th>\n",
       "      <td>2.400722e+00</td>\n",
       "      <td>[Coffee &amp; Tea, Detergent, Toothbrush]</td>\n",
       "    </tr>\n",
       "    <tr>\n",
       "      <th>1</th>\n",
       "      <td>2.401236e+00</td>\n",
       "      <td>[Milk, Bread, Cereals, Fruit]</td>\n",
       "    </tr>\n",
       "    <tr>\n",
       "      <th>2</th>\n",
       "      <td>2.407938e+00</td>\n",
       "      <td>[Eggs, Toothbrush]</td>\n",
       "    </tr>\n",
       "    <tr>\n",
       "      <th>3</th>\n",
       "      <td>2.411961e+00</td>\n",
       "      <td>[Milk, Cheese, Bread]</td>\n",
       "    </tr>\n",
       "    <tr>\n",
       "      <th>4</th>\n",
       "      <td>2.411975e+00</td>\n",
       "      <td>[Milk, Cheese, Bread]</td>\n",
       "    </tr>\n",
       "    <tr>\n",
       "      <th>...</th>\n",
       "      <td>...</td>\n",
       "      <td>...</td>\n",
       "    </tr>\n",
       "    <tr>\n",
       "      <th>27572</th>\n",
       "      <td>1.053373e+10</td>\n",
       "      <td>[Cheese, Eggs, Iced Cream, Toilet Paper, Chips...</td>\n",
       "    </tr>\n",
       "    <tr>\n",
       "      <th>27573</th>\n",
       "      <td>1.053373e+10</td>\n",
       "      <td>[Olive Oil, Chocalate, Milk, Beverages, Iced C...</td>\n",
       "    </tr>\n",
       "    <tr>\n",
       "      <th>27574</th>\n",
       "      <td>1.053373e+10</td>\n",
       "      <td>[Chocalate, Beverages, Fruit, Detergent, Toile...</td>\n",
       "    </tr>\n",
       "    <tr>\n",
       "      <th>27575</th>\n",
       "      <td>1.053373e+10</td>\n",
       "      <td>[Beverages, Chips, Chocalate, Cheese, Nuts, To...</td>\n",
       "    </tr>\n",
       "    <tr>\n",
       "      <th>27576</th>\n",
       "      <td>1.053373e+10</td>\n",
       "      <td>[Toothbrush, Toilet Paper, Beverages, Cheese, ...</td>\n",
       "    </tr>\n",
       "  </tbody>\n",
       "</table>\n",
       "<p>27577 rows × 2 columns</p>\n",
       "</div>"
      ],
      "text/plain": [
       "         Receipt No                                             Basket\n",
       "0      2.400722e+00              [Coffee & Tea, Detergent, Toothbrush]\n",
       "1      2.401236e+00                      [Milk, Bread, Cereals, Fruit]\n",
       "2      2.407938e+00                                 [Eggs, Toothbrush]\n",
       "3      2.411961e+00                              [Milk, Cheese, Bread]\n",
       "4      2.411975e+00                              [Milk, Cheese, Bread]\n",
       "...             ...                                                ...\n",
       "27572  1.053373e+10  [Cheese, Eggs, Iced Cream, Toilet Paper, Chips...\n",
       "27573  1.053373e+10  [Olive Oil, Chocalate, Milk, Beverages, Iced C...\n",
       "27574  1.053373e+10  [Chocalate, Beverages, Fruit, Detergent, Toile...\n",
       "27575  1.053373e+10  [Beverages, Chips, Chocalate, Cheese, Nuts, To...\n",
       "27576  1.053373e+10  [Toothbrush, Toilet Paper, Beverages, Cheese, ...\n",
       "\n",
       "[27577 rows x 2 columns]"
      ]
     },
     "execution_count": 39,
     "metadata": {},
     "output_type": "execute_result"
    }
   ],
   "source": [
    "df_result_last"
   ]
  },
  {
   "cell_type": "code",
   "execution_count": 40,
   "metadata": {},
   "outputs": [],
   "source": [
    "basket_result=df_result_last['Basket'].values.tolist()"
   ]
  },
  {
   "cell_type": "code",
   "execution_count": 42,
   "metadata": {},
   "outputs": [],
   "source": [
    "rules_result=apriori(basket_result,min_support=0.0001, min_confidence=0.2 , min_lift=1, max_length=2)"
   ]
  },
  {
   "cell_type": "code",
   "execution_count": 43,
   "metadata": {},
   "outputs": [],
   "source": [
    "arr_result=list(rules_result)"
   ]
  },
  {
   "cell_type": "code",
   "execution_count": 44,
   "metadata": {},
   "outputs": [
    {
     "data": {
      "text/plain": [
       "[RelationRecord(items=frozenset({'Beverages'}), support=0.31714834826123217, ordered_statistics=[OrderedStatistic(items_base=frozenset(), items_add=frozenset({'Beverages'}), confidence=0.31714834826123217, lift=1.0)]),\n",
       " RelationRecord(items=frozenset({'Cheese'}), support=0.4059904993291511, ordered_statistics=[OrderedStatistic(items_base=frozenset(), items_add=frozenset({'Cheese'}), confidence=0.4059904993291511, lift=1.0)]),\n",
       " RelationRecord(items=frozenset({'Chocalate'}), support=0.46828879138412444, ordered_statistics=[OrderedStatistic(items_base=frozenset(), items_add=frozenset({'Chocalate'}), confidence=0.46828879138412444, lift=1.0)]),\n",
       " RelationRecord(items=frozenset({'Beverages', 'Baby Diaper'}), support=0.029771186133372013, ordered_statistics=[OrderedStatistic(items_base=frozenset({'Baby Diaper'}), items_add=frozenset({'Beverages'}), confidence=0.5229299363057325, lift=1.6488496288021022)]),\n",
       " RelationRecord(items=frozenset({'Baby Diaper', 'Bread'}), support=0.024114298147006562, ordered_statistics=[OrderedStatistic(items_base=frozenset({'Baby Diaper'}), items_add=frozenset({'Bread'}), confidence=0.4235668789808917, lift=2.4421291703232386)]),\n",
       " RelationRecord(items=frozenset({'Baby Diaper', 'Cacao Powder'}), support=0.025673568553504732, ordered_statistics=[OrderedStatistic(items_base=frozenset({'Baby Diaper'}), items_add=frozenset({'Cacao Powder'}), confidence=0.45095541401273886, lift=3.2159290023866824)]),\n",
       " RelationRecord(items=frozenset({'Baby Diaper', 'Canned Food'}), support=0.025238423323784315, ordered_statistics=[OrderedStatistic(items_base=frozenset({'Baby Diaper'}), items_add=frozenset({'Canned Food'}), confidence=0.44331210191082804, lift=2.856359307101613)]),\n",
       " RelationRecord(items=frozenset({'Baby Diaper', 'Cereals'}), support=0.023932987634623055, ordered_statistics=[OrderedStatistic(items_base=frozenset({'Baby Diaper'}), items_add=frozenset({'Cereals'}), confidence=0.4203821656050955, lift=4.070533350032205), OrderedStatistic(items_base=frozenset({'Cereals'}), items_add=frozenset({'Baby Diaper'}), confidence=0.23174157303370788, lift=4.070533350032205)]),\n",
       " RelationRecord(items=frozenset({'Baby Diaper', 'Cheese'}), support=0.03470283207020343, ordered_statistics=[OrderedStatistic(items_base=frozenset({'Baby Diaper'}), items_add=frozenset({'Cheese'}), confidence=0.6095541401273885, lift=1.5014000109229182)]),\n",
       " RelationRecord(items=frozenset({'Baby Diaper', 'Chicken & Meat'}), support=0.023969249737099758, ordered_statistics=[OrderedStatistic(items_base=frozenset({'Baby Diaper'}), items_add=frozenset({'Chicken & Meat'}), confidence=0.4210191082802548, lift=3.688196934258128), OrderedStatistic(items_base=frozenset({'Chicken & Meat'}), items_add=frozenset({'Baby Diaper'}), confidence=0.2099745870393901, lift=3.688196934258128)]),\n",
       " RelationRecord(items=frozenset({'Baby Diaper', 'Chips'}), support=0.02585487906588824, ordered_statistics=[OrderedStatistic(items_base=frozenset({'Baby Diaper'}), items_add=frozenset({'Chips'}), confidence=0.454140127388535, lift=2.6271915865310738)]),\n",
       " RelationRecord(items=frozenset({'Baby Diaper', 'Chocalate'}), support=0.03647967509156181, ordered_statistics=[OrderedStatistic(items_base=frozenset({'Baby Diaper'}), items_add=frozenset({'Chocalate'}), confidence=0.640764331210191, lift=1.368310203018696)]),\n",
       " RelationRecord(items=frozenset({'Baby Diaper', 'Cigaret'}), support=0.020741922616673316, ordered_statistics=[OrderedStatistic(items_base=frozenset({'Baby Diaper'}), items_add=frozenset({'Cigaret'}), confidence=0.36433121019108283, lift=7.016174429776181), OrderedStatistic(items_base=frozenset({'Cigaret'}), items_add=frozenset({'Baby Diaper'}), confidence=0.3994413407821229, lift=7.01617442977618)]),\n",
       " RelationRecord(items=frozenset({'Baby Diaper', 'Coffee & Tea'}), support=0.02476701599158719, ordered_statistics=[OrderedStatistic(items_base=frozenset({'Baby Diaper'}), items_add=frozenset({'Coffee & Tea'}), confidence=0.4350318471337579, lift=3.021121442560474)]),\n",
       " RelationRecord(items=frozenset({'Baby Diaper', 'Detergent'}), support=0.02697900424266599, ordered_statistics=[OrderedStatistic(items_base=frozenset({'Baby Diaper'}), items_add=frozenset({'Detergent'}), confidence=0.4738853503184713, lift=3.1092877244188637)]),\n",
       " RelationRecord(items=frozenset({'Baby Diaper', 'Eggs'}), support=0.023932987634623055, ordered_statistics=[OrderedStatistic(items_base=frozenset({'Baby Diaper'}), items_add=frozenset({'Eggs'}), confidence=0.4203821656050955, lift=3.763921747042766), OrderedStatistic(items_base=frozenset({'Eggs'}), items_add=frozenset({'Baby Diaper'}), confidence=0.2142857142857143, lift=3.763921747042766)]),\n",
       " RelationRecord(items=frozenset({'Baby Diaper', 'Frozen potatoes'}), support=0.021684737281067557, ordered_statistics=[OrderedStatistic(items_base=frozenset({'Baby Diaper'}), items_add=frozenset({'Frozen potatoes'}), confidence=0.38089171974522296, lift=5.485039663401574), OrderedStatistic(items_base=frozenset({'Frozen potatoes'}), items_add=frozenset({'Baby Diaper'}), confidence=0.3122715404699739, lift=5.485039663401573)]),\n",
       " RelationRecord(items=frozenset({'Baby Diaper', 'Fruit'}), support=0.025528520143597924, ordered_statistics=[OrderedStatistic(items_base=frozenset({'Baby Diaper'}), items_add=frozenset({'Fruit'}), confidence=0.44840764331210187, lift=2.354033424636938)]),\n",
       " RelationRecord(items=frozenset({'Baby Diaper', 'Iced Cream'}), support=0.020488087899336403, ordered_statistics=[OrderedStatistic(items_base=frozenset({'Baby Diaper'}), items_add=frozenset({'Iced Cream'}), confidence=0.35987261146496813, lift=7.6398822219934), OrderedStatistic(items_base=frozenset({'Iced Cream'}), items_add=frozenset({'Baby Diaper'}), confidence=0.43494996150885296, lift=7.6398822219934)]),\n",
       " RelationRecord(items=frozenset({'Baby Diaper', 'Milk'}), support=0.02995249664575552, ordered_statistics=[OrderedStatistic(items_base=frozenset({'Baby Diaper'}), items_add=frozenset({'Milk'}), confidence=0.5261146496815287, lift=2.878132055994349)]),\n",
       " RelationRecord(items=frozenset({'Baby Diaper', 'Nuts'}), support=0.023389056097472532, ordered_statistics=[OrderedStatistic(items_base=frozenset({'Baby Diaper'}), items_add=frozenset({'Nuts'}), confidence=0.41082802547770697, lift=3.4763438044181423)]),\n",
       " RelationRecord(items=frozenset({'Baby Diaper', 'Olive Oil'}), support=0.022192406715741377, ordered_statistics=[OrderedStatistic(items_base=frozenset({'Baby Diaper'}), items_add=frozenset({'Olive Oil'}), confidence=0.3898089171974522, lift=6.743889905617403), OrderedStatistic(items_base=frozenset({'Olive Oil'}), items_add=frozenset({'Baby Diaper'}), confidence=0.383939774153074, lift=6.743889905617403)]),\n",
       " RelationRecord(items=frozenset({'Baby Diaper', 'Spagetti'}), support=0.025564782246074627, ordered_statistics=[OrderedStatistic(items_base=frozenset({'Baby Diaper'}), items_add=frozenset({'Spagetti'}), confidence=0.4490445859872611, lift=3.5100063910914683)]),\n",
       " RelationRecord(items=frozenset({'Baby Diaper', 'Toilet Paper'}), support=0.02705152844761939, ordered_statistics=[OrderedStatistic(items_base=frozenset({'Baby Diaper'}), items_add=frozenset({'Toilet Paper'}), confidence=0.47515923566878976, lift=3.847171533187967), OrderedStatistic(items_base=frozenset({'Toilet Paper'}), items_add=frozenset({'Baby Diaper'}), confidence=0.2190252495596007, lift=3.847171533187967)]),\n",
       " RelationRecord(items=frozenset({'Baby Diaper', 'Toothbrush'}), support=0.027522935779816515, ordered_statistics=[OrderedStatistic(items_base=frozenset({'Baby Diaper'}), items_add=frozenset({'Toothbrush'}), confidence=0.4834394904458599, lift=2.498933613500558)]),\n",
       " RelationRecord(items=frozenset({'Beverages', 'Bread'}), support=0.06422018348623854, ordered_statistics=[OrderedStatistic(items_base=frozenset({'Beverages'}), items_add=frozenset({'Bread'}), confidence=0.20249256803109994, lift=1.167496874052612), OrderedStatistic(items_base=frozenset({'Bread'}), items_add=frozenset({'Beverages'}), confidence=0.3702697052059377, lift=1.167496874052612)]),\n",
       " RelationRecord(items=frozenset({'Beverages', 'Cacao Powder'}), support=0.04732204373209559, ordered_statistics=[OrderedStatistic(items_base=frozenset({'Cacao Powder'}), items_add=frozenset({'Beverages'}), confidence=0.3374709076803724, lift=1.0640790328266214)]),\n",
       " RelationRecord(items=frozenset({'Beverages', 'Canned Food'}), support=0.05700402509337491, ordered_statistics=[OrderedStatistic(items_base=frozenset({'Canned Food'}), items_add=frozenset({'Beverages'}), confidence=0.3672897196261682, lift=1.1581006858141825)]),\n",
       " RelationRecord(items=frozenset({'Beverages', 'Cereals'}), support=0.041302534720963124, ordered_statistics=[OrderedStatistic(items_base=frozenset({'Cereals'}), items_add=frozenset({'Beverages'}), confidence=0.3999297752808989, lift=1.2610179982759375)]),\n",
       " RelationRecord(items=frozenset({'Beverages', 'Chicken & Meat'}), support=0.043260688254705006, ordered_statistics=[OrderedStatistic(items_base=frozenset({'Chicken & Meat'}), items_add=frozenset({'Beverages'}), confidence=0.3789707750952986, lift=1.1949322049854847)]),\n",
       " RelationRecord(items=frozenset({'Beverages', 'Chips'}), support=0.07752837509518802, ordered_statistics=[OrderedStatistic(items_base=frozenset({'Beverages'}), items_add=frozenset({'Chips'}), confidence=0.24445460782071807, lift=1.4141650345861005), OrderedStatistic(items_base=frozenset({'Chips'}), items_add=frozenset({'Beverages'}), confidence=0.4485001048877701, lift=1.4141650345861008)]),\n",
       " RelationRecord(items=frozenset({'Beverages', 'Chocalate'}), support=0.1720999383544258, ordered_statistics=[OrderedStatistic(items_base=frozenset({'Beverages'}), items_add=frozenset({'Chocalate'}), confidence=0.542648067688086, lift=1.1587893574906574), OrderedStatistic(items_base=frozenset({'Chocalate'}), items_add=frozenset({'Beverages'}), confidence=0.3675081307108565, lift=1.1587893574906574)]),\n",
       " RelationRecord(items=frozenset({'Beverages', 'Cigaret'}), support=0.031149146027486675, ordered_statistics=[OrderedStatistic(items_base=frozenset({'Cigaret'}), items_add=frozenset({'Beverages'}), confidence=0.5998603351955307, lift=1.8914187587110853)]),\n",
       " RelationRecord(items=frozenset({'Beverages', 'Coffee & Tea'}), support=0.05366791166551837, ordered_statistics=[OrderedStatistic(items_base=frozenset({'Coffee & Tea'}), items_add=frozenset({'Beverages'}), confidence=0.3727020901536137, lift=1.175166423526893)]),\n",
       " RelationRecord(items=frozenset({'Beverages', 'Detergent'}), support=0.05131087500453276, ordered_statistics=[OrderedStatistic(items_base=frozenset({'Detergent'}), items_add=frozenset({'Beverages'}), confidence=0.3366642874137521, lift=1.0615356796260051)]),\n",
       " RelationRecord(items=frozenset({'Beverages', 'Eggs'}), support=0.04213656307792726, ordered_statistics=[OrderedStatistic(items_base=frozenset({'Eggs'}), items_add=frozenset({'Beverages'}), confidence=0.37727272727272726, lift=1.1895780928424422)]),\n",
       " RelationRecord(items=frozenset({'Beverages', 'Frozen potatoes'}), support=0.03463030786525003, ordered_statistics=[OrderedStatistic(items_base=frozenset({'Frozen potatoes'}), items_add=frozenset({'Beverages'}), confidence=0.4986945169712794, lift=1.5724329630136031)]),\n",
       " RelationRecord(items=frozenset({'Beverages', 'Fruit'}), support=0.06683105486456105, ordered_statistics=[OrderedStatistic(items_base=frozenset({'Beverages'}), items_add=frozenset({'Fruit'}), confidence=0.2107249028127144, lift=1.1062555958245242), OrderedStatistic(items_base=frozenset({'Fruit'}), items_add=frozenset({'Beverages'}), confidence=0.3508471349704931, lift=1.1062555958245242)]),\n",
       " RelationRecord(items=frozenset({'Beverages', 'Iced Cream'}), support=0.028647060956594264, ordered_statistics=[OrderedStatistic(items_base=frozenset({'Iced Cream'}), items_add=frozenset({'Beverages'}), confidence=0.6081601231716706, lift=1.917588808221491)]),\n",
       " RelationRecord(items=frozenset({'Beverages', 'Milk'}), support=0.06461906661348225, ordered_statistics=[OrderedStatistic(items_base=frozenset({'Beverages'}), items_add=frozenset({'Milk'}), confidence=0.20375028584495772, lift=1.114624406416663), OrderedStatistic(items_base=frozenset({'Milk'}), items_add=frozenset({'Beverages'}), confidence=0.35350128942670106, lift=1.114624406416663)]),\n",
       " RelationRecord(items=frozenset({'Beverages', 'Nuts'}), support=0.05239873807883381, ordered_statistics=[OrderedStatistic(items_base=frozenset({'Nuts'}), items_add=frozenset({'Beverages'}), confidence=0.4433875421908561, lift=1.3980446205119184)]),\n",
       " RelationRecord(items=frozenset({'Beverages', 'Olive Oil'}), support=0.029807448235848716, ordered_statistics=[OrderedStatistic(items_base=frozenset({'Olive Oil'}), items_add=frozenset({'Beverages'}), confidence=0.5156838143036386, lift=1.6260018919564878)]),\n",
       " RelationRecord(items=frozenset({'Beverages', 'Spagetti'}), support=0.04717699532218878, ordered_statistics=[OrderedStatistic(items_base=frozenset({'Spagetti'}), items_add=frozenset({'Beverages'}), confidence=0.36876417233560094, lift=1.162749780528112)]),\n",
       " RelationRecord(items=frozenset({'Beverages', 'Toilet Paper'}), support=0.04703194691228198, ordered_statistics=[OrderedStatistic(items_base=frozenset({'Toilet Paper'}), items_add=frozenset({'Beverages'}), confidence=0.38079859072225486, lift=1.2006954878055822)]),\n",
       " RelationRecord(items=frozenset({'Cacao Powder', 'Bread'}), support=0.0361533161692715, ordered_statistics=[OrderedStatistic(items_base=frozenset({'Bread'}), items_add=frozenset({'Cacao Powder'}), confidence=0.2084465816433201, lift=1.4865092790219392), OrderedStatistic(items_base=frozenset({'Cacao Powder'}), items_add=frozenset({'Bread'}), confidence=0.25782260149987074, lift=1.4865092790219392)]),\n",
       " RelationRecord(items=frozenset({'Canned Food', 'Bread'}), support=0.04413097871414585, ordered_statistics=[OrderedStatistic(items_base=frozenset({'Bread'}), items_add=frozenset({'Canned Food'}), confidence=0.25444281831486515, lift=1.639432149689027), OrderedStatistic(items_base=frozenset({'Canned Food'}), items_add=frozenset({'Bread'}), confidence=0.28434579439252333, lift=1.639432149689027)]),\n",
       " RelationRecord(items=frozenset({'Cereals', 'Bread'}), support=0.035500598324690866, ordered_statistics=[OrderedStatistic(items_base=frozenset({'Bread'}), items_add=frozenset({'Cereals'}), confidence=0.2046832531883755, lift=1.981934716704997), OrderedStatistic(items_base=frozenset({'Cereals'}), items_add=frozenset({'Bread'}), confidence=0.34375, lift=1.9819347167049968)]),\n",
       " RelationRecord(items=frozenset({'Cheese', 'Bread'}), support=0.08822569532581499, ordered_statistics=[OrderedStatistic(items_base=frozenset({'Bread'}), items_add=frozenset({'Cheese'}), confidence=0.5086765628266778, lift=1.2529272573304122), OrderedStatistic(items_base=frozenset({'Cheese'}), items_add=frozenset({'Bread'}), confidence=0.21730975348338694, lift=1.2529272573304122)]),\n",
       " RelationRecord(items=frozenset({'Chicken & Meat', 'Bread'}), support=0.037349965551002645, ordered_statistics=[OrderedStatistic(items_base=frozenset({'Bread'}), items_add=frozenset({'Chicken & Meat'}), confidence=0.21534601714405183, lift=1.8864666819509266), OrderedStatistic(items_base=frozenset({'Chicken & Meat'}), items_add=frozenset({'Bread'}), confidence=0.3271918678526048, lift=1.8864666819509266)]),\n",
       " RelationRecord(items=frozenset({'Chips', 'Bread'}), support=0.03669724770642202, ordered_statistics=[OrderedStatistic(items_base=frozenset({'Bread'}), items_add=frozenset({'Chips'}), confidence=0.21158268868910726, lift=1.2240016375035685), OrderedStatistic(items_base=frozenset({'Chips'}), items_add=frozenset({'Bread'}), confidence=0.21229284665408013, lift=1.2240016375035683)]),\n",
       " RelationRecord(items=frozenset({'Cigaret', 'Bread'}), support=0.02705152844761939, ordered_statistics=[OrderedStatistic(items_base=frozenset({'Cigaret'}), items_add=frozenset({'Bread'}), confidence=0.520949720670391, lift=3.0036024350673998)]),\n",
       " RelationRecord(items=frozenset({'Coffee & Tea', 'Bread'}), support=0.038401566522826995, ordered_statistics=[OrderedStatistic(items_base=frozenset({'Bread'}), items_add=frozenset({'Coffee & Tea'}), confidence=0.2214091574325737, lift=1.5375976667131919), OrderedStatistic(items_base=frozenset({'Coffee & Tea'}), items_add=frozenset({'Bread'}), confidence=0.26668345504910607, lift=1.537597666713192)]),\n",
       " RelationRecord(items=frozenset({'Detergent', 'Bread'}), support=0.037567538165862856, ordered_statistics=[OrderedStatistic(items_base=frozenset({'Bread'}), items_add=frozenset({'Detergent'}), confidence=0.2166004599623667, lift=1.4211731821037799), OrderedStatistic(items_base=frozenset({'Detergent'}), items_add=frozenset({'Bread'}), confidence=0.2464906019509874, lift=1.4211731821037799)]),\n",
       " RelationRecord(items=frozenset({'Eggs', 'Bread'}), support=0.03930811908474453, ordered_statistics=[OrderedStatistic(items_base=frozenset({'Bread'}), items_add=frozenset({'Eggs'}), confidence=0.22663600250888563, lift=2.029201636749201), OrderedStatistic(items_base=frozenset({'Eggs'}), items_add=frozenset({'Bread'}), confidence=0.35194805194805195, lift=2.029201636749201)]),\n",
       " RelationRecord(items=frozenset({'Frozen potatoes', 'Bread'}), support=0.029626137723465208, ordered_statistics=[OrderedStatistic(items_base=frozenset({'Frozen potatoes'}), items_add=frozenset({'Bread'}), confidence=0.4266318537859008, lift=2.459800675695962)]),\n",
       " RelationRecord(items=frozenset({'Fruit', 'Bread'}), support=0.061246691083149, ordered_statistics=[OrderedStatistic(items_base=frozenset({'Bread'}), items_add=frozenset({'Fruit'}), confidence=0.3531256533556345, lift=1.8538256505974364), OrderedStatistic(items_base=frozenset({'Fruit'}), items_add=frozenset({'Bread'}), confidence=0.3215305539691605, lift=1.8538256505974366)]),\n",
       " RelationRecord(items=frozenset({'Iced Cream', 'Bread'}), support=0.02335279399499583, ordered_statistics=[OrderedStatistic(items_base=frozenset({'Iced Cream'}), items_add=frozenset({'Bread'}), confidence=0.49576597382602, lift=2.8584023123981086)]),\n",
       " RelationRecord(items=frozenset({'Milk', 'Bread'}), support=0.046778112194945064, ordered_statistics=[OrderedStatistic(items_base=frozenset({'Bread'}), items_add=frozenset({'Milk'}), confidence=0.269705205937696, lift=1.4754335378186554), OrderedStatistic(items_base=frozenset({'Milk'}), items_add=frozenset({'Bread'}), confidence=0.25590160682404284, lift=1.4754335378186554)]),\n",
       " RelationRecord(items=frozenset({'Nuts', 'Bread'}), support=0.03452152155781992, ordered_statistics=[OrderedStatistic(items_base=frozenset({'Nuts'}), items_add=frozenset({'Bread'}), confidence=0.29211414544338754, lift=1.6842215740941455)]),\n",
       " RelationRecord(items=frozenset({'Olive Oil', 'Bread'}), support=0.025891141168364943, ordered_statistics=[OrderedStatistic(items_base=frozenset({'Olive Oil'}), items_add=frozenset({'Bread'}), confidence=0.44792973651191975, lift=2.5825963503636236)]),\n",
       " RelationRecord(items=frozenset({'Spagetti', 'Bread'}), support=0.03771258657576966, ordered_statistics=[OrderedStatistic(items_base=frozenset({'Bread'}), items_add=frozenset({'Spagetti'}), confidence=0.2174367551745766, lift=1.6996183099346087), OrderedStatistic(items_base=frozenset({'Spagetti'}), items_add=frozenset({'Bread'}), confidence=0.29478458049886624, lift=1.699618309934609)]),\n",
       " RelationRecord(items=frozenset({'Toilet Paper', 'Bread'}), support=0.03212822279435762, ordered_statistics=[OrderedStatistic(items_base=frozenset({'Toilet Paper'}), items_add=frozenset({'Bread'}), confidence=0.26012918379330596, lift=1.4998081750926193)]),\n",
       " RelationRecord(items=frozenset({'Toothbrush', 'Bread'}), support=0.04050476846647569, ordered_statistics=[OrderedStatistic(items_base=frozenset({'Bread'}), items_add=frozenset({'Toothbrush'}), confidence=0.2335354380096174, lift=1.2071615321445583), OrderedStatistic(items_base=frozenset({'Toothbrush'}), items_add=frozenset({'Bread'}), confidence=0.20937207122774132, lift=1.2071615321445583)]),\n",
       " RelationRecord(items=frozenset({'Cacao Powder', 'Canned Food'}), support=0.05116582659462596, ordered_statistics=[OrderedStatistic(items_base=frozenset({'Cacao Powder'}), items_add=frozenset({'Canned Food'}), confidence=0.3648823377295061, lift=2.351018744758549), OrderedStatistic(items_base=frozenset({'Canned Food'}), items_add=frozenset({'Cacao Powder'}), confidence=0.3296728971962617, lift=2.351018744758549)]),\n",
       " RelationRecord(items=frozenset({'Cereals', 'Cacao Powder'}), support=0.03789389708815317, ordered_statistics=[OrderedStatistic(items_base=frozenset({'Cacao Powder'}), items_add=frozenset({'Cereals'}), confidence=0.27023532454098786, lift=2.616671188506609), OrderedStatistic(items_base=frozenset({'Cereals'}), items_add=frozenset({'Cacao Powder'}), confidence=0.3669241573033708, lift=2.616671188506609)]),\n",
       " RelationRecord(items=frozenset({'Cacao Powder', 'Cheese'}), support=0.07774594771004822, ordered_statistics=[OrderedStatistic(items_base=frozenset({'Cacao Powder'}), items_add=frozenset({'Cheese'}), confidence=0.5544349625032324, lift=1.3656353126966454)]),\n",
       " RelationRecord(items=frozenset({'Chicken & Meat', 'Cacao Powder'}), support=0.033506182688472275, ordered_statistics=[OrderedStatistic(items_base=frozenset({'Cacao Powder'}), items_add=frozenset({'Chicken & Meat'}), confidence=0.23894491854150504, lift=2.0931969563593027), OrderedStatistic(items_base=frozenset({'Chicken & Meat'}), items_add=frozenset({'Cacao Powder'}), confidence=0.2935196950444727, lift=2.0931969563593027)]),\n",
       " RelationRecord(items=frozenset({'Chips', 'Cacao Powder'}), support=0.03524676360735395, ordered_statistics=[OrderedStatistic(items_base=frozenset({'Cacao Powder'}), items_add=frozenset({'Chips'}), confidence=0.2513576415826222, lift=1.4540989473303905), OrderedStatistic(items_base=frozenset({'Chips'}), items_add=frozenset({'Cacao Powder'}), confidence=0.20390182504719948, lift=1.4540989473303905)]),\n",
       " RelationRecord(items=frozenset({'Chocalate', 'Cacao Powder'}), support=0.07310439859303042, ordered_statistics=[OrderedStatistic(items_base=frozenset({'Cacao Powder'}), items_add=frozenset({'Chocalate'}), confidence=0.5213343677269201, lift=1.1132753491408762)]),\n",
       " RelationRecord(items=frozenset({'Cigaret', 'Cacao Powder'}), support=0.02291764876527541, ordered_statistics=[OrderedStatistic(items_base=frozenset({'Cigaret'}), items_add=frozenset({'Cacao Powder'}), confidence=0.441340782122905, lift=3.147363524334976)]),\n",
       " RelationRecord(items=frozenset({'Coffee & Tea', 'Cacao Powder'}), support=0.04257170830764768, ordered_statistics=[OrderedStatistic(items_base=frozenset({'Cacao Powder'}), items_add=frozenset({'Coffee & Tea'}), confidence=0.3035945177139902, lift=2.1083419831273504), OrderedStatistic(items_base=frozenset({'Coffee & Tea'}), items_add=frozenset({'Cacao Powder'}), confidence=0.2956434147569882, lift=2.1083419831273504)]),\n",
       " RelationRecord(items=frozenset({'Detergent', 'Cacao Powder'}), support=0.048337382601443234, ordered_statistics=[OrderedStatistic(items_base=frozenset({'Cacao Powder'}), items_add=frozenset({'Detergent'}), confidence=0.3447116627876908, lift=2.2617448310007493), OrderedStatistic(items_base=frozenset({'Detergent'}), items_add=frozenset({'Cacao Powder'}), confidence=0.3171544135141566, lift=2.261744831000749)]),\n",
       " RelationRecord(items=frozenset({'Eggs', 'Cacao Powder'}), support=0.04043224426152228, ordered_statistics=[OrderedStatistic(items_base=frozenset({'Cacao Powder'}), items_add=frozenset({'Eggs'}), confidence=0.2883372123092837, lift=2.581647825926337), OrderedStatistic(items_base=frozenset({'Eggs'}), items_add=frozenset({'Cacao Powder'}), confidence=0.362012987012987, lift=2.5816478259263365)]),\n",
       " RelationRecord(items=frozenset({'Frozen potatoes', 'Cacao Powder'}), support=0.02875584726402437, ordered_statistics=[OrderedStatistic(items_base=frozenset({'Cacao Powder'}), items_add=frozenset({'Frozen potatoes'}), confidence=0.20506852857512287, lift=2.953093896875281), OrderedStatistic(items_base=frozenset({'Frozen potatoes'}), items_add=frozenset({'Cacao Powder'}), confidence=0.4140992167101828, lift=2.953093896875281)]),\n",
       " RelationRecord(items=frozenset({'Fruit', 'Cacao Powder'}), support=0.04177394205316024, ordered_statistics=[OrderedStatistic(items_base=frozenset({'Cacao Powder'}), items_add=frozenset({'Fruit'}), confidence=0.2979053529868115, lift=1.563932213843004), OrderedStatistic(items_base=frozenset({'Fruit'}), items_add=frozenset({'Cacao Powder'}), confidence=0.21930325528269562, lift=1.5639322138430043)]),\n",
       " RelationRecord(items=frozenset({'Iced Cream', 'Cacao Powder'}), support=0.022591289842985095, ordered_statistics=[OrderedStatistic(items_base=frozenset({'Iced Cream'}), items_add=frozenset({'Cacao Powder'}), confidence=0.4795996920708237, lift=3.420201889898398)]),\n",
       " RelationRecord(items=frozenset({'Milk', 'Cacao Powder'}), support=0.060376400623708165, ordered_statistics=[OrderedStatistic(items_base=frozenset({'Cacao Powder'}), items_add=frozenset({'Milk'}), confidence=0.43056633048875104, lift=2.3554310049371723), OrderedStatistic(items_base=frozenset({'Milk'}), items_add=frozenset({'Cacao Powder'}), confidence=0.33029160880777625, lift=2.3554310049371727)]),\n",
       " RelationRecord(items=frozenset({'Nuts', 'Cacao Powder'}), support=0.033506182688472275, ordered_statistics=[OrderedStatistic(items_base=frozenset({'Cacao Powder'}), items_add=frozenset({'Nuts'}), confidence=0.23894491854150504, lift=2.0219036571399465), OrderedStatistic(items_base=frozenset({'Nuts'}), items_add=frozenset({'Cacao Powder'}), confidence=0.2835225529303467, lift=2.0219036571399465)]),\n",
       " RelationRecord(items=frozenset({'Olive Oil', 'Cacao Powder'}), support=0.03223700910178772, ordered_statistics=[OrderedStatistic(items_base=frozenset({'Cacao Powder'}), items_add=frozenset({'Olive Oil'}), confidence=0.22989397465735714, lift=3.977281141233336), OrderedStatistic(items_base=frozenset({'Olive Oil'}), items_add=frozenset({'Cacao Powder'}), confidence=0.5577164366373902, lift=3.977281141233336)]),\n",
       " RelationRecord(items=frozenset({'Spagetti', 'Cacao Powder'}), support=0.04891757624107046, ordered_statistics=[OrderedStatistic(items_base=frozenset({'Cacao Powder'}), items_add=frozenset({'Spagetti'}), confidence=0.3488492371347298, lift=2.7268184275692873), OrderedStatistic(items_base=frozenset({'Spagetti'}), items_add=frozenset({'Cacao Powder'}), confidence=0.3823696145124717, lift=2.726818427569287)]),\n",
       " RelationRecord(items=frozenset({'Toilet Paper', 'Cacao Powder'}), support=0.040468506363998985, ordered_statistics=[OrderedStatistic(items_base=frozenset({'Cacao Powder'}), items_add=frozenset({'Toilet Paper'}), confidence=0.2885958107059736, lift=2.336643180222735), OrderedStatistic(items_base=frozenset({'Toilet Paper'}), items_add=frozenset({'Cacao Powder'}), confidence=0.3276570757486788, lift=2.336643180222735)]),\n",
       " RelationRecord(items=frozenset({'Toothbrush', 'Cacao Powder'}), support=0.048228596294013125, ordered_statistics=[OrderedStatistic(items_base=frozenset({'Cacao Powder'}), items_add=frozenset({'Toothbrush'}), confidence=0.3439358675976209, lift=1.777829319726259), OrderedStatistic(items_base=frozenset({'Toothbrush'}), items_add=frozenset({'Cacao Powder'}), confidence=0.24929709465791938, lift=1.777829319726259)]),\n",
       " RelationRecord(items=frozenset({'Cereals', 'Canned Food'}), support=0.041918990463067046, ordered_statistics=[OrderedStatistic(items_base=frozenset({'Canned Food'}), items_add=frozenset({'Cereals'}), confidence=0.2700934579439252, lift=2.6152975034127897), OrderedStatistic(items_base=frozenset({'Cereals'}), items_add=frozenset({'Canned Food'}), confidence=0.4058988764044944, lift=2.61529750341279)]),\n",
       " RelationRecord(items=frozenset({'Cheese', 'Canned Food'}), support=0.08710157014903724, ordered_statistics=[OrderedStatistic(items_base=frozenset({'Canned Food'}), items_add=frozenset({'Cheese'}), confidence=0.561214953271028, lift=1.382335188134614), OrderedStatistic(items_base=frozenset({'Cheese'}), items_add=frozenset({'Canned Food'}), confidence=0.21454090746695248, lift=1.382335188134614)]),\n",
       " RelationRecord(items=frozenset({'Chicken & Meat', 'Canned Food'}), support=0.03988831272437176, ordered_statistics=[OrderedStatistic(items_base=frozenset({'Canned Food'}), items_add=frozenset({'Chicken & Meat'}), confidence=0.2570093457943925, lift=2.251444323053355), OrderedStatistic(items_base=frozenset({'Chicken & Meat'}), items_add=frozenset({'Canned Food'}), confidence=0.349428208386277, lift=2.251444323053355)]),\n",
       " RelationRecord(items=frozenset({'Chips', 'Canned Food'}), support=0.039126808572361026, ordered_statistics=[OrderedStatistic(items_base=frozenset({'Canned Food'}), items_add=frozenset({'Chips'}), confidence=0.2521028037383177, lift=1.4584096955509938), OrderedStatistic(items_base=frozenset({'Chips'}), items_add=frozenset({'Canned Food'}), confidence=0.22634780784560518, lift=1.4584096955509938)]),\n",
       " RelationRecord(items=frozenset({'Cigaret', 'Canned Food'}), support=0.02335279399499583, ordered_statistics=[OrderedStatistic(items_base=frozenset({'Cigaret'}), items_add=frozenset({'Canned Food'}), confidence=0.44972067039106145, lift=2.897651151255678)]),\n",
       " RelationRecord(items=frozenset({'Coffee & Tea', 'Canned Food'}), support=0.04177394205316024, ordered_statistics=[OrderedStatistic(items_base=frozenset({'Canned Food'}), items_add=frozenset({'Coffee & Tea'}), confidence=0.2691588785046729, lift=1.8692003003080748), OrderedStatistic(items_base=frozenset({'Coffee & Tea'}), items_add=frozenset({'Canned Food'}), confidence=0.29010324855200204, lift=1.8692003003080746)]),\n",
       " RelationRecord(items=frozenset({'Detergent', 'Canned Food'}), support=0.0499691772128948, ordered_statistics=[OrderedStatistic(items_base=frozenset({'Canned Food'}), items_add=frozenset({'Detergent'}), confidence=0.3219626168224299, lift=2.112482294578194), OrderedStatistic(items_base=frozenset({'Detergent'}), items_add=frozenset({'Canned Food'}), confidence=0.32786105162978824, lift=2.112482294578194)]),\n",
       " RelationRecord(items=frozenset({'Eggs', 'Canned Food'}), support=0.03930811908474453, ordered_statistics=[OrderedStatistic(items_base=frozenset({'Canned Food'}), items_add=frozenset({'Eggs'}), confidence=0.25327102803738316, lift=2.267680240320427), OrderedStatistic(items_base=frozenset({'Eggs'}), items_add=frozenset({'Canned Food'}), confidence=0.35194805194805195, lift=2.267680240320427)]),\n",
       " RelationRecord(items=frozenset({'Frozen potatoes', 'Canned Food'}), support=0.0317293396671139, ordered_statistics=[OrderedStatistic(items_base=frozenset({'Canned Food'}), items_add=frozenset({'Frozen potatoes'}), confidence=0.2044392523364486, lift=2.944031990434592), OrderedStatistic(items_base=frozenset({'Frozen potatoes'}), items_add=frozenset({'Canned Food'}), confidence=0.45691906005221933, lift=2.9440319904345915)]),\n",
       " RelationRecord(items=frozenset({'Fruit', 'Canned Food'}), support=0.04706820901475867, ordered_statistics=[OrderedStatistic(items_base=frozenset({'Canned Food'}), items_add=frozenset({'Fruit'}), confidence=0.30327102803738315, lift=1.5921007310464337), OrderedStatistic(items_base=frozenset({'Fruit'}), items_add=frozenset({'Canned Food'}), confidence=0.2470968970112317, lift=1.5921007310464337)]),\n",
       " RelationRecord(items=frozenset({'Iced Cream', 'Canned Food'}), support=0.023244007687565724, ordered_statistics=[OrderedStatistic(items_base=frozenset({'Iced Cream'}), items_add=frozenset({'Canned Food'}), confidence=0.4934565050038491, lift=3.1794509435726974)]),\n",
       " RelationRecord(items=frozenset({'Milk', 'Canned Food'}), support=0.048228596294013125, ordered_statistics=[OrderedStatistic(items_base=frozenset({'Canned Food'}), items_add=frozenset({'Milk'}), confidence=0.3107476635514018, lift=1.6999580078867302), OrderedStatistic(items_base=frozenset({'Milk'}), items_add=frozenset({'Canned Food'}), confidence=0.26383654036897436, lift=1.6999580078867302)]),\n",
       " RelationRecord(items=frozenset({'Nuts', 'Canned Food'}), support=0.036334626681655005, ordered_statistics=[OrderedStatistic(items_base=frozenset({'Canned Food'}), items_add=frozenset({'Nuts'}), confidence=0.23411214953271028, lift=1.9810097415353027), OrderedStatistic(items_base=frozenset({'Nuts'}), items_add=frozenset({'Canned Food'}), confidence=0.30745627493096045, lift=1.9810097415353027)]),\n",
       " RelationRecord(items=frozenset({'Olive Oil', 'Canned Food'}), support=0.032091960691880916, ordered_statistics=[OrderedStatistic(items_base=frozenset({'Canned Food'}), items_add=frozenset({'Olive Oil'}), confidence=0.20677570093457945, lift=3.577323403182495), OrderedStatistic(items_base=frozenset({'Olive Oil'}), items_add=frozenset({'Canned Food'}), confidence=0.555207026348808, lift=3.5773234031824948)]),\n",
       " RelationRecord(items=frozenset({'Spagetti', 'Canned Food'}), support=0.05287014541103093, ordered_statistics=[OrderedStatistic(items_base=frozenset({'Canned Food'}), items_add=frozenset({'Spagetti'}), confidence=0.3406542056074766, lift=2.662761062368873), OrderedStatistic(items_base=frozenset({'Spagetti'}), items_add=frozenset({'Canned Food'}), confidence=0.413265306122449, lift=2.662761062368873)]),\n",
       " RelationRecord(items=frozenset({'Toilet Paper', 'Canned Food'}), support=0.04064981687638249, ordered_statistics=[OrderedStatistic(items_base=frozenset({'Canned Food'}), items_add=frozenset({'Toilet Paper'}), confidence=0.26191588785046727, lift=2.1206266703618133), OrderedStatistic(items_base=frozenset({'Toilet Paper'}), items_add=frozenset({'Canned Food'}), confidence=0.32912507339988256, lift=2.1206266703618133)]),\n",
       " RelationRecord(items=frozenset({'Toothbrush', 'Canned Food'}), support=0.050730681364905536, ordered_statistics=[OrderedStatistic(items_base=frozenset({'Canned Food'}), items_add=frozenset({'Toothbrush'}), confidence=0.32686915887850465, lift=1.689610270738992), OrderedStatistic(items_base=frozenset({'Toothbrush'}), items_add=frozenset({'Canned Food'}), confidence=0.26223055295220243, lift=1.6896102707389922)]),\n",
       " RelationRecord(items=frozenset({'Cereals', 'Cheese'}), support=0.07172643869891576, ordered_statistics=[OrderedStatistic(items_base=frozenset({'Cereals'}), items_add=frozenset({'Cheese'}), confidence=0.6945224719101124, lift=1.7106865137428697)]),\n",
       " RelationRecord(items=frozenset({'Cereals', 'Chicken & Meat'}), support=0.03241831961417123, ordered_statistics=[OrderedStatistic(items_base=frozenset({'Cereals'}), items_add=frozenset({'Chicken & Meat'}), confidence=0.3139044943820225, lift=2.749855222863099), OrderedStatistic(items_base=frozenset({'Chicken & Meat'}), items_add=frozenset({'Cereals'}), confidence=0.283989834815756, lift=2.7498552228630984)]),\n",
       " RelationRecord(items=frozenset({'Cereals', 'Chips'}), support=0.032164484896834315, ordered_statistics=[OrderedStatistic(items_base=frozenset({'Cereals'}), items_add=frozenset({'Chips'}), confidence=0.31144662921348315, lift=1.8017125432809364)]),\n",
       " RelationRecord(items=frozenset({'Chocalate', 'Cereals'}), support=0.056315045146317584, ordered_statistics=[OrderedStatistic(items_base=frozenset({'Cereals'}), items_add=frozenset({'Chocalate'}), confidence=0.5452949438202248, lift=1.1644415878682315)]),\n",
       " RelationRecord(items=frozenset({'Cigaret', 'Cereals'}), support=0.0227000761504152, ordered_statistics=[OrderedStatistic(items_base=frozenset({'Cereals'}), items_add=frozenset({'Cigaret'}), confidence=0.21980337078651685, lift=4.232903321354591), OrderedStatistic(items_base=frozenset({'Cigaret'}), items_add=frozenset({'Cereals'}), confidence=0.4371508379888268, lift=4.232903321354592)]),\n",
       " RelationRecord(items=frozenset({'Coffee & Tea', 'Cereals'}), support=0.036225840374224896, ordered_statistics=[OrderedStatistic(items_base=frozenset({'Cereals'}), items_add=frozenset({'Coffee & Tea'}), confidence=0.35077247191011235, lift=2.435973925425628), OrderedStatistic(items_base=frozenset({'Coffee & Tea'}), items_add=frozenset({'Cereals'}), confidence=0.25157391085368924, lift=2.435973925425628)]),\n",
       " RelationRecord(items=frozenset({'Detergent', 'Cereals'}), support=0.03894549805997752, ordered_statistics=[OrderedStatistic(items_base=frozenset({'Cereals'}), items_add=frozenset({'Detergent'}), confidence=0.37710674157303375, lift=2.4742975523101483), OrderedStatistic(items_base=frozenset({'Detergent'}), items_add=frozenset({'Cereals'}), confidence=0.25553176302640973, lift=2.474297552310148)]),\n",
       " RelationRecord(items=frozenset({'Eggs', 'Cereals'}), support=0.03919933277731443, ordered_statistics=[OrderedStatistic(items_base=frozenset({'Cereals'}), items_add=frozenset({'Eggs'}), confidence=0.3795646067415731, lift=3.3984588182182995), OrderedStatistic(items_base=frozenset({'Eggs'}), items_add=frozenset({'Cereals'}), confidence=0.350974025974026, lift=3.398458818218299)]),\n",
       " RelationRecord(items=frozenset({'Frozen potatoes', 'Cereals'}), support=0.026870217935235884, ordered_statistics=[OrderedStatistic(items_base=frozenset({'Cereals'}), items_add=frozenset({'Frozen potatoes'}), confidence=0.2601825842696629, lift=3.7467650790623988), OrderedStatistic(items_base=frozenset({'Frozen potatoes'}), items_add=frozenset({'Cereals'}), confidence=0.38694516971279375, lift=3.7467650790623996)]),\n",
       " RelationRecord(items=frozenset({'Cereals', 'Fruit'}), support=0.03720491714109584, ordered_statistics=[OrderedStatistic(items_base=frozenset({'Cereals'}), items_add=frozenset({'Fruit'}), confidence=0.36025280898876405, lift=1.8912415216986764)]),\n",
       " RelationRecord(items=frozenset({'Cereals', 'Iced Cream'}), support=0.022264930920694783, ordered_statistics=[OrderedStatistic(items_base=frozenset({'Cereals'}), items_add=frozenset({'Iced Cream'}), confidence=0.21558988764044945, lift=4.576845520754945), OrderedStatistic(items_base=frozenset({'Iced Cream'}), items_add=frozenset({'Cereals'}), confidence=0.47267128560431104, lift=4.576845520754946)]),\n",
       " RelationRecord(items=frozenset({'Cereals', 'Milk'}), support=0.043151901947274904, ordered_statistics=[OrderedStatistic(items_base=frozenset({'Cereals'}), items_add=frozenset({'Milk'}), confidence=0.4178370786516854, lift=2.2857951037447983), OrderedStatistic(items_base=frozenset({'Milk'}), items_add=frozenset({'Cereals'}), confidence=0.23606427296171392, lift=2.2857951037447983)]),\n",
       " RelationRecord(items=frozenset({'Cereals', 'Nuts'}), support=0.030315117670522536, ordered_statistics=[OrderedStatistic(items_base=frozenset({'Cereals'}), items_add=frozenset({'Nuts'}), confidence=0.29353932584269665, lift=2.4838705089794555), OrderedStatistic(items_base=frozenset({'Nuts'}), items_add=frozenset({'Cereals'}), confidence=0.25652040503221846, lift=2.4838705089794555)]),\n",
       " RelationRecord(items=frozenset({'Olive Oil', 'Cereals'}), support=0.028320702034303948, ordered_statistics=[OrderedStatistic(items_base=frozenset({'Cereals'}), items_add=frozenset({'Olive Oil'}), confidence=0.27422752808988765, lift=4.744273865831136), OrderedStatistic(items_base=frozenset({'Olive Oil'}), items_add=frozenset({'Cereals'}), confidence=0.48996235884567124, lift=4.744273865831136)]),\n",
       " RelationRecord(items=frozenset({'Spagetti', 'Cereals'}), support=0.04028719585161548, ordered_statistics=[OrderedStatistic(items_base=frozenset({'Cereals'}), items_add=frozenset({'Spagetti'}), confidence=0.3900983146067416, lift=3.049246378092436), OrderedStatistic(items_base=frozenset({'Spagetti'}), items_add=frozenset({'Cereals'}), confidence=0.3149092970521542, lift=3.0492463780924357)]),\n",
       " RelationRecord(items=frozenset({'Toilet Paper', 'Cereals'}), support=0.034992928890017046, ordered_statistics=[OrderedStatistic(items_base=frozenset({'Cereals'}), items_add=frozenset({'Toilet Paper'}), confidence=0.3388342696629214, lift=2.7434035979137943), OrderedStatistic(items_base=frozenset({'Toilet Paper'}), items_add=frozenset({'Cereals'}), confidence=0.28332354668232534, lift=2.7434035979137943)]),\n",
       " RelationRecord(items=frozenset({'Cereals', 'Toothbrush'}), support=0.041411321028393226, ordered_statistics=[OrderedStatistic(items_base=frozenset({'Cereals'}), items_add=frozenset({'Toothbrush'}), confidence=0.40098314606741575, lift=2.0727108189505388), OrderedStatistic(items_base=frozenset({'Toothbrush'}), items_add=frozenset({'Cereals'}), confidence=0.21405810684161197, lift=2.0727108189505383)]),\n",
       " RelationRecord(items=frozenset({'Chicken & Meat', 'Cheese'}), support=0.06059397323856837, ordered_statistics=[OrderedStatistic(items_base=frozenset({'Chicken & Meat'}), items_add=frozenset({'Cheese'}), confidence=0.5308132147395171, lift=1.3074523064372692)]),\n",
       " RelationRecord(items=frozenset({'Chips', 'Cheese'}), support=0.0747724553069587, ordered_statistics=[OrderedStatistic(items_base=frozenset({'Chips'}), items_add=frozenset({'Cheese'}), confidence=0.43255716383469683, lift=1.0654366655117395)]),\n",
       " RelationRecord(items=frozenset({'Cigaret', 'Cheese'}), support=0.030496428182906044, ordered_statistics=[OrderedStatistic(items_base=frozenset({'Cigaret'}), items_add=frozenset({'Cheese'}), confidence=0.5872905027932961, lift=1.4465621825232875)]),\n",
       " RelationRecord(items=frozenset({'Coffee & Tea', 'Cheese'}), support=0.0704935272147079, ordered_statistics=[OrderedStatistic(items_base=frozenset({'Coffee & Tea'}), items_add=frozenset({'Cheese'}), confidence=0.4895492319315034, lift=1.2058145024093487)]),\n",
       " RelationRecord(items=frozenset({'Detergent', 'Cheese'}), support=0.07564274576639954, ordered_statistics=[OrderedStatistic(items_base=frozenset({'Detergent'}), items_add=frozenset({'Cheese'}), confidence=0.4963121579823936, lift=1.2224723455413065)]),\n",
       " RelationRecord(items=frozenset({'Eggs', 'Cheese'}), support=0.06998585778003409, ordered_statistics=[OrderedStatistic(items_base=frozenset({'Eggs'}), items_add=frozenset({'Cheese'}), confidence=0.6266233766233767, lift=1.543443449191038)]),\n",
       " RelationRecord(items=frozenset({'Frozen potatoes', 'Cheese'}), support=0.04656053958008485, ordered_statistics=[OrderedStatistic(items_base=frozenset({'Frozen potatoes'}), items_add=frozenset({'Cheese'}), confidence=0.6704960835509138, lift=1.6515068324476199)]),\n",
       " RelationRecord(items=frozenset({'Fruit', 'Cheese'}), support=0.09196069188091525, ordered_statistics=[OrderedStatistic(items_base=frozenset({'Cheese'}), items_add=frozenset({'Fruit'}), confidence=0.22650946766702393, lift=1.1891208052262554), OrderedStatistic(items_base=frozenset({'Fruit'}), items_add=frozenset({'Cheese'}), confidence=0.48277174947648965, lift=1.1891208052262554)]),\n",
       " RelationRecord(items=frozenset({'Iced Cream', 'Cheese'}), support=0.029408565108604998, ordered_statistics=[OrderedStatistic(items_base=frozenset({'Iced Cream'}), items_add=frozenset({'Cheese'}), confidence=0.6243264049268669, lift=1.5377857510421764)]),\n",
       " RelationRecord(items=frozenset({'Milk', 'Cheese'}), support=0.09504297059143489, ordered_statistics=[OrderedStatistic(items_base=frozenset({'Cheese'}), items_add=frozenset({'Milk'}), confidence=0.23410146480886032, lift=1.2806617923098473), OrderedStatistic(items_base=frozenset({'Milk'}), items_add=frozenset({'Cheese'}), confidence=0.5199365205316405, lift=1.2806617923098473)]),\n",
       " RelationRecord(items=frozenset({'Nuts', 'Cheese'}), support=0.05939732385683722, ordered_statistics=[OrderedStatistic(items_base=frozenset({'Nuts'}), items_add=frozenset({'Cheese'}), confidence=0.5026081620128874, lift=1.2379801075231687)]),\n",
       " RelationRecord(items=frozenset({'Olive Oil', 'Cheese'}), support=0.03988831272437176, ordered_statistics=[OrderedStatistic(items_base=frozenset({'Olive Oil'}), items_add=frozenset({'Cheese'}), confidence=0.6900878293601004, lift=1.6997634932353956)]),\n",
       " RelationRecord(items=frozenset({'Spagetti', 'Cheese'}), support=0.07346701961779745, ordered_statistics=[OrderedStatistic(items_base=frozenset({'Spagetti'}), items_add=frozenset({'Cheese'}), confidence=0.5742630385487529, lift=1.4144740812842944)]),\n",
       " RelationRecord(items=frozenset({'Toilet Paper', 'Cheese'}), support=0.062334554157450046, ordered_statistics=[OrderedStatistic(items_base=frozenset({'Toilet Paper'}), items_add=frozenset({'Cheese'}), confidence=0.504697592483852, lift=1.2431266084250794)]),\n",
       " RelationRecord(items=frozenset({'Toothbrush', 'Cheese'}), support=0.08684773543170032, ordered_statistics=[OrderedStatistic(items_base=frozenset({'Cheese'}), items_add=frozenset({'Toothbrush'}), confidence=0.2139156841729189, lift=1.1057456087041395), OrderedStatistic(items_base=frozenset({'Toothbrush'}), items_add=frozenset({'Cheese'}), confidence=0.4489222118088097, lift=1.1057456087041395)]),\n",
       " RelationRecord(items=frozenset({'Chips', 'Chicken & Meat'}), support=0.03067773869528955, ordered_statistics=[OrderedStatistic(items_base=frozenset({'Chicken & Meat'}), items_add=frozenset({'Chips'}), confidence=0.26874205844980936, lift=1.5546674524586517)]),\n",
       " RelationRecord(items=frozenset({'Cigaret', 'Chicken & Meat'}), support=0.023062697175182216, ordered_statistics=[OrderedStatistic(items_base=frozenset({'Chicken & Meat'}), items_add=frozenset({'Cigaret'}), confidence=0.20203303684879287, lift=3.8906878890915926), OrderedStatistic(items_base=frozenset({'Cigaret'}), items_add=frozenset({'Chicken & Meat'}), confidence=0.44413407821229045, lift=3.8906878890915926)]),\n",
       " RelationRecord(items=frozenset({'Coffee & Tea', 'Chicken & Meat'}), support=0.03245458171664793, ordered_statistics=[OrderedStatistic(items_base=frozenset({'Chicken & Meat'}), items_add=frozenset({'Coffee & Tea'}), confidence=0.2843074968233799, lift=1.9744013699064085), OrderedStatistic(items_base=frozenset({'Coffee & Tea'}), items_add=frozenset({'Chicken & Meat'}), confidence=0.2253840342483002, lift=1.9744013699064087)]),\n",
       " RelationRecord(items=frozenset({'Detergent', 'Chicken & Meat'}), support=0.03542807411973746, ordered_statistics=[OrderedStatistic(items_base=frozenset({'Chicken & Meat'}), items_add=frozenset({'Detergent'}), confidence=0.3103557814485387, lift=2.036326763027921), OrderedStatistic(items_base=frozenset({'Detergent'}), items_add=frozenset({'Chicken & Meat'}), confidence=0.23245300975493693, lift=2.036326763027921)]),\n",
       " RelationRecord(items=frozenset({'Eggs', 'Chicken & Meat'}), support=0.03463030786525003, ordered_statistics=[OrderedStatistic(items_base=frozenset({'Chicken & Meat'}), items_add=frozenset({'Eggs'}), confidence=0.30336721728081323, lift=2.71622004901071), OrderedStatistic(items_base=frozenset({'Eggs'}), items_add=frozenset({'Chicken & Meat'}), confidence=0.3100649350649351, lift=2.71622004901071)]),\n",
       " RelationRecord(items=frozenset({'Frozen potatoes', 'Chicken & Meat'}), support=0.02679769373028248, ordered_statistics=[OrderedStatistic(items_base=frozenset({'Chicken & Meat'}), items_add=frozenset({'Frozen potatoes'}), confidence=0.23475222363405335, lift=3.380554606347932), OrderedStatistic(items_base=frozenset({'Frozen potatoes'}), items_add=frozenset({'Chicken & Meat'}), confidence=0.38590078328981725, lift=3.380554606347932)]),\n",
       " RelationRecord(items=frozenset({'Fruit', 'Chicken & Meat'}), support=0.045944083837980924, ordered_statistics=[OrderedStatistic(items_base=frozenset({'Chicken & Meat'}), items_add=frozenset({'Fruit'}), confidence=0.4024777636594663, lift=2.1129124859008384), OrderedStatistic(items_base=frozenset({'Fruit'}), items_add=frozenset({'Chicken & Meat'}), confidence=0.24119550732914527, lift=2.1129124859008384)]),\n",
       " RelationRecord(items=frozenset({'Iced Cream', 'Chicken & Meat'}), support=0.02237371722812489, ordered_statistics=[OrderedStatistic(items_base=frozenset({'Iced Cream'}), items_add=frozenset({'Chicken & Meat'}), confidence=0.47498075442648197, lift=4.1609098681128)]),\n",
       " RelationRecord(items=frozenset({'Milk', 'Chicken & Meat'}), support=0.03651593719403851, ordered_statistics=[OrderedStatistic(items_base=frozenset({'Chicken & Meat'}), items_add=frozenset({'Milk'}), confidence=0.3198856416772554, lift=1.749947696991405)]),\n",
       " RelationRecord(items=frozenset({'Nuts', 'Chicken & Meat'}), support=0.030242593465569133, ordered_statistics=[OrderedStatistic(items_base=frozenset({'Chicken & Meat'}), items_add=frozenset({'Nuts'}), confidence=0.26493011435832275, lift=2.241785137667833), OrderedStatistic(items_base=frozenset({'Nuts'}), items_add=frozenset({'Chicken & Meat'}), confidence=0.25590671985271557, lift=2.241785137667833)]),\n",
       " RelationRecord(items=frozenset({'Olive Oil', 'Chicken & Meat'}), support=0.027269101062479602, ordered_statistics=[OrderedStatistic(items_base=frozenset({'Chicken & Meat'}), items_add=frozenset({'Olive Oil'}), confidence=0.2388818297331639, lift=4.132775544887993), OrderedStatistic(items_base=frozenset({'Olive Oil'}), items_add=frozenset({'Chicken & Meat'}), confidence=0.4717691342534504, lift=4.132775544887993)]),\n",
       " RelationRecord(items=frozenset({'Spagetti', 'Chicken & Meat'}), support=0.039960836929325165, ordered_statistics=[OrderedStatistic(items_base=frozenset({'Chicken & Meat'}), items_add=frozenset({'Spagetti'}), confidence=0.3500635324015248, lift=2.7363101000671346), OrderedStatistic(items_base=frozenset({'Spagetti'}), items_add=frozenset({'Chicken & Meat'}), confidence=0.31235827664399096, lift=2.736310100067134)]),\n",
       " RelationRecord(items=frozenset({'Toilet Paper', 'Chicken & Meat'}), support=0.031838125974544, ordered_statistics=[OrderedStatistic(items_base=frozenset({'Chicken & Meat'}), items_add=frozenset({'Toilet Paper'}), confidence=0.2789072426937738, lift=2.2581987762085145), OrderedStatistic(items_base=frozenset({'Toilet Paper'}), items_add=frozenset({'Chicken & Meat'}), confidence=0.25778038755137994, lift=2.258198776208515)]),\n",
       " RelationRecord(items=frozenset({'Toothbrush', 'Chicken & Meat'}), support=0.03923559487979113, ordered_statistics=[OrderedStatistic(items_base=frozenset({'Chicken & Meat'}), items_add=frozenset({'Toothbrush'}), confidence=0.343710292249047, lift=1.7766633044708469), OrderedStatistic(items_base=frozenset({'Toothbrush'}), items_add=frozenset({'Chicken & Meat'}), confidence=0.20281162136832237, lift=1.7766633044708469)]),\n",
       " RelationRecord(items=frozenset({'Chocalate', 'Chips'}), support=0.11487834064619067, ordered_statistics=[OrderedStatistic(items_base=frozenset({'Chips'}), items_add=frozenset({'Chocalate'}), confidence=0.6645689112649464, lift=1.4191433224371557), OrderedStatistic(items_base=frozenset({'Chocalate'}), items_add=frozenset({'Chips'}), confidence=0.2453151618398637, lift=1.4191433224371557)]),\n",
       " RelationRecord(items=frozenset({'Cigaret', 'Chips'}), support=0.02469449178663379, ordered_statistics=[OrderedStatistic(items_base=frozenset({'Cigaret'}), items_add=frozenset({'Chips'}), confidence=0.4755586592178771, lift=2.75109736632083)]),\n",
       " RelationRecord(items=frozenset({'Coffee & Tea', 'Chips'}), support=0.03909054646988432, ordered_statistics=[OrderedStatistic(items_base=frozenset({'Chips'}), items_add=frozenset({'Coffee & Tea'}), confidence=0.22613803230543317, lift=1.570437803295626), OrderedStatistic(items_base=frozenset({'Coffee & Tea'}), items_add=frozenset({'Chips'}), confidence=0.27146814404432135, lift=1.570437803295626)]),\n",
       " RelationRecord(items=frozenset({'Detergent', 'Chips'}), support=0.03644341298908511, ordered_statistics=[OrderedStatistic(items_base=frozenset({'Chips'}), items_add=frozenset({'Detergent'}), confidence=0.210824417872876, lift=1.3832750348989535), OrderedStatistic(items_base=frozenset({'Detergent'}), items_add=frozenset({'Chips'}), confidence=0.23911491791577447, lift=1.3832750348989535)]),\n",
       " RelationRecord(items=frozenset({'Eggs', 'Chips'}), support=0.030242593465569133, ordered_statistics=[OrderedStatistic(items_base=frozenset({'Eggs'}), items_add=frozenset({'Chips'}), confidence=0.2707792207792208, lift=1.566452395936348)]),\n",
       " RelationRecord(items=frozenset({'Frozen potatoes', 'Chips'}), support=0.028211915726873843, ordered_statistics=[OrderedStatistic(items_base=frozenset({'Frozen potatoes'}), items_add=frozenset({'Chips'}), confidence=0.406266318537859, lift=2.350242556391554)]),\n",
       " RelationRecord(items=frozenset({'Fruit', 'Chips'}), support=0.038474090727780394, ordered_statistics=[OrderedStatistic(items_base=frozenset({'Chips'}), items_add=frozenset({'Fruit'}), confidence=0.22257184812250888, lift=1.1684492396105897), OrderedStatistic(items_base=frozenset({'Fruit'}), items_add=frozenset({'Chips'}), confidence=0.20197982105463544, lift=1.1684492396105897)]),\n",
       " RelationRecord(items=frozenset({'Iced Cream', 'Chips'}), support=0.025746092758458135, ordered_statistics=[OrderedStatistic(items_base=frozenset({'Iced Cream'}), items_add=frozenset({'Chips'}), confidence=0.5465742879137798, lift=3.1619213630791494)]),\n",
       " RelationRecord(items=frozenset({'Chips', 'Milk'}), support=0.04384088189433223, ordered_statistics=[OrderedStatistic(items_base=frozenset({'Chips'}), items_add=frozenset({'Milk'}), confidence=0.25361862806796726, lift=1.387431245036765), OrderedStatistic(items_base=frozenset({'Milk'}), items_add=frozenset({'Chips'}), confidence=0.2398333663955564, lift=1.387431245036765)]),\n",
       " RelationRecord(items=frozenset({'Nuts', 'Chips'}), support=0.045726511223120714, ordered_statistics=[OrderedStatistic(items_base=frozenset({'Chips'}), items_add=frozenset({'Nuts'}), confidence=0.2645269561569121, lift=2.2383736943661137), OrderedStatistic(items_base=frozenset({'Nuts'}), items_add=frozenset({'Chips'}), confidence=0.38692850567658793, lift=2.2383736943661137)]),\n",
       " RelationRecord(items=frozenset({'Olive Oil', 'Chips'}), support=0.025202161221307612, ordered_statistics=[OrderedStatistic(items_base=frozenset({'Olive Oil'}), items_add=frozenset({'Chips'}), confidence=0.43601003764115437, lift=2.5223093786511672)]),\n",
       " RelationRecord(items=frozenset({'Spagetti', 'Chips'}), support=0.03582695724698118, ordered_statistics=[OrderedStatistic(items_base=frozenset({'Chips'}), items_add=frozenset({'Spagetti'}), confidence=0.20725823368995172, lift=1.6200567773434804), OrderedStatistic(items_base=frozenset({'Spagetti'}), items_add=frozenset({'Chips'}), confidence=0.2800453514739229, lift=1.6200567773434804)]),\n",
       " RelationRecord(items=frozenset({'Toilet Paper', 'Chips'}), support=0.03368749320085578, ordered_statistics=[OrderedStatistic(items_base=frozenset({'Toilet Paper'}), items_add=frozenset({'Chips'}), confidence=0.2727539635936582, lift=1.5778762437638583)]),\n",
       " RelationRecord(items=frozenset({'Chips', 'Toothbrush'}), support=0.04362330927947202, ordered_statistics=[OrderedStatistic(items_base=frozenset({'Chips'}), items_add=frozenset({'Toothbrush'}), confidence=0.2523599748269351, lift=1.3044669214250026), OrderedStatistic(items_base=frozenset({'Toothbrush'}), items_add=frozenset({'Chips'}), confidence=0.2254920337394564, lift=1.3044669214250029)]),\n",
       " RelationRecord(items=frozenset({'Chocalate', 'Cigaret'}), support=0.03234579540921783, ordered_statistics=[OrderedStatistic(items_base=frozenset({'Cigaret'}), items_add=frozenset({'Chocalate'}), confidence=0.622905027932961, lift=1.3301728322214081)]),\n",
       " RelationRecord(items=frozenset({'Chocalate', 'Coffee & Tea'}), support=0.08695652173913043, ordered_statistics=[OrderedStatistic(items_base=frozenset({'Coffee & Tea'}), items_add=frozenset({'Chocalate'}), confidence=0.6038781163434903, lift=1.2895421104541143)]),\n",
       " RelationRecord(items=frozenset({'Chocalate', 'Frozen potatoes'}), support=0.03930811908474453, ordered_statistics=[OrderedStatistic(items_base=frozenset({'Frozen potatoes'}), items_add=frozenset({'Chocalate'}), confidence=0.5660574412532637, lift=1.2087785393713222)]),\n",
       " RelationRecord(items=frozenset({'Chocalate', 'Iced Cream'}), support=0.03230953330674113, ordered_statistics=[OrderedStatistic(items_base=frozenset({'Iced Cream'}), items_add=frozenset({'Chocalate'}), confidence=0.6859122401847576, lift=1.4647206014848273)]),\n",
       " RelationRecord(items=frozenset({'Chocalate', 'Milk'}), support=0.0975087935598506, ordered_statistics=[OrderedStatistic(items_base=frozenset({'Chocalate'}), items_add=frozenset({'Milk'}), confidence=0.20822363326622273, lift=1.1390960393934981), OrderedStatistic(items_base=frozenset({'Milk'}), items_add=frozenset({'Chocalate'}), confidence=0.5334259075580242, lift=1.1390960393934981)]),\n",
       " RelationRecord(items=frozenset({'Chocalate', 'Nuts'}), support=0.07393842694999456, ordered_statistics=[OrderedStatistic(items_base=frozenset({'Nuts'}), items_add=frozenset({'Chocalate'}), confidence=0.6256520405032219, lift=1.33603889739487)]),\n",
       " RelationRecord(items=frozenset({'Chocalate', 'Olive Oil'}), support=0.034775356275156835, ordered_statistics=[OrderedStatistic(items_base=frozenset({'Olive Oil'}), items_add=frozenset({'Chocalate'}), confidence=0.6016311166875784, lift=1.2847437900645307)]),\n",
       " RelationRecord(items=frozenset({'Chocalate', 'Spagetti'}), support=0.06625086122493382, ordered_statistics=[OrderedStatistic(items_base=frozenset({'Spagetti'}), items_add=frozenset({'Chocalate'}), confidence=0.5178571428571429, lift=1.1058499634947678)]),\n",
       " RelationRecord(items=frozenset({'Chocalate', 'Toilet Paper'}), support=0.06077528375095188, ordered_statistics=[OrderedStatistic(items_base=frozenset({'Toilet Paper'}), items_add=frozenset({'Chocalate'}), confidence=0.4920728126834997, lift=1.0507892175447477)]),\n",
       " RelationRecord(items=frozenset({'Chocalate', 'Toothbrush'}), support=0.0930485549552163, ordered_statistics=[OrderedStatistic(items_base=frozenset({'Toothbrush'}), items_add=frozenset({'Chocalate'}), confidence=0.48097469540768506, lift=1.027089916002612)]),\n",
       " RelationRecord(items=frozenset({'Coffee & Tea', 'Cigaret'}), support=0.024803278094063894, ordered_statistics=[OrderedStatistic(items_base=frozenset({'Cigaret'}), items_add=frozenset({'Coffee & Tea'}), confidence=0.47765363128491617, lift=3.3171126139370775)]),\n",
       " RelationRecord(items=frozenset({'Cigaret', 'Detergent'}), support=0.023751677122239547, ordered_statistics=[OrderedStatistic(items_base=frozenset({'Cigaret'}), items_add=frozenset({'Detergent'}), confidence=0.4574022346368715, lift=3.0011376218370227)]),\n",
       " RelationRecord(items=frozenset({'Eggs', 'Cigaret'}), support=0.023135221380135622, ordered_statistics=[OrderedStatistic(items_base=frozenset({'Cigaret'}), items_add=frozenset({'Eggs'}), confidence=0.44553072625698326, lift=3.989091181165204), OrderedStatistic(items_base=frozenset({'Eggs'}), items_add=frozenset({'Cigaret'}), confidence=0.20714285714285716, lift=3.989091181165204)]),\n",
       " RelationRecord(items=frozenset({'Cigaret', 'Frozen potatoes'}), support=0.021866047793451065, ordered_statistics=[OrderedStatistic(items_base=frozenset({'Cigaret'}), items_add=frozenset({'Frozen potatoes'}), confidence=0.42108938547486036, lift=6.063907040856514), OrderedStatistic(items_base=frozenset({'Frozen potatoes'}), items_add=frozenset({'Cigaret'}), confidence=0.3148825065274152, lift=6.063907040856514)]),\n",
       " RelationRecord(items=frozenset({'Cigaret', 'Fruit'}), support=0.025963665373318345, ordered_statistics=[OrderedStatistic(items_base=frozenset({'Cigaret'}), items_add=frozenset({'Fruit'}), confidence=0.5, lift=2.624881020369313)]),\n",
       " RelationRecord(items=frozenset({'Cigaret', 'Iced Cream'}), support=0.020959495231533523, ordered_statistics=[OrderedStatistic(items_base=frozenset({'Cigaret'}), items_add=frozenset({'Iced Cream'}), confidence=0.4036312849162011, lift=8.568852920811453), OrderedStatistic(items_base=frozenset({'Iced Cream'}), items_add=frozenset({'Cigaret'}), confidence=0.4449576597382602, lift=8.568852920811453)]),\n",
       " RelationRecord(items=frozenset({'Cigaret', 'Milk'}), support=0.02444065706929688, ordered_statistics=[OrderedStatistic(items_base=frozenset({'Cigaret'}), items_add=frozenset({'Milk'}), confidence=0.47067039106145253, lift=2.5748219349933894)]),\n",
       " RelationRecord(items=frozenset({'Cigaret', 'Nuts'}), support=0.023606628712332742, ordered_statistics=[OrderedStatistic(items_base=frozenset({'Cigaret'}), items_add=frozenset({'Nuts'}), confidence=0.4546089385474861, lift=3.8468090513421367)]),\n",
       " RelationRecord(items=frozenset({'Olive Oil', 'Cigaret'}), support=0.021322116256300542, ordered_statistics=[OrderedStatistic(items_base=frozenset({'Cigaret'}), items_add=frozenset({'Olive Oil'}), confidence=0.41061452513966484, lift=7.103837364979007), OrderedStatistic(items_base=frozenset({'Olive Oil'}), items_add=frozenset({'Cigaret'}), confidence=0.36888331242158096, lift=7.1038373649790065)]),\n",
       " RelationRecord(items=frozenset({'Cigaret', 'Spagetti'}), support=0.023389056097472532, ordered_statistics=[OrderedStatistic(items_base=frozenset({'Cigaret'}), items_add=frozenset({'Spagetti'}), confidence=0.4504189944134078, lift=3.5207496057082053)]),\n",
       " RelationRecord(items=frozenset({'Toilet Paper', 'Cigaret'}), support=0.023497842404902637, ordered_statistics=[OrderedStatistic(items_base=frozenset({'Cigaret'}), items_add=frozenset({'Toilet Paper'}), confidence=0.45251396648044695, lift=3.6638219769909823)]),\n",
       " RelationRecord(items=frozenset({'Cigaret', 'Toothbrush'}), support=0.02563730645102803, ordered_statistics=[OrderedStatistic(items_base=frozenset({'Cigaret'}), items_add=frozenset({'Toothbrush'}), confidence=0.4937150837988827, lift=2.5520488970799975)]),\n",
       " RelationRecord(items=frozenset({'Coffee & Tea', 'Detergent'}), support=0.043587047176995325, ordered_statistics=[OrderedStatistic(items_base=frozenset({'Coffee & Tea'}), items_add=frozenset({'Detergent'}), confidence=0.30269453538151603, lift=1.98605929150989), OrderedStatistic(items_base=frozenset({'Detergent'}), items_add=frozenset({'Coffee & Tea'}), confidence=0.28598620033309546, lift=1.9860592915098902)]),\n",
       " RelationRecord(items=frozenset({'Coffee & Tea', 'Eggs'}), support=0.0341226384305762, ordered_statistics=[OrderedStatistic(items_base=frozenset({'Coffee & Tea'}), items_add=frozenset({'Eggs'}), confidence=0.23696801813145305, lift=2.1217100766269743), OrderedStatistic(items_base=frozenset({'Eggs'}), items_add=frozenset({'Coffee & Tea'}), confidence=0.3055194805194805, lift=2.1217100766269743)]),\n",
       " RelationRecord(items=frozenset({'Coffee & Tea', 'Frozen potatoes'}), support=0.02697900424266599, ordered_statistics=[OrderedStatistic(items_base=frozenset({'Frozen potatoes'}), items_add=frozenset({'Coffee & Tea'}), confidence=0.38851174934725846, lift=2.698058048791072)]),\n",
       " RelationRecord(items=frozenset({'Coffee & Tea', 'Fruit'}), support=0.04061355477390579, ordered_statistics=[OrderedStatistic(items_base=frozenset({'Coffee & Tea'}), items_add=frozenset({'Fruit'}), confidence=0.2820448249811131, lift=1.480668215972617), OrderedStatistic(items_base=frozenset({'Fruit'}), items_add=frozenset({'Coffee & Tea'}), confidence=0.2132114981915096, lift=1.4806682159726168)]),\n",
       " RelationRecord(items=frozenset({'Coffee & Tea', 'Iced Cream'}), support=0.023207745585089024, ordered_statistics=[OrderedStatistic(items_base=frozenset({'Iced Cream'}), items_add=frozenset({'Coffee & Tea'}), confidence=0.4926866820631255, lift=3.42151111338575)]),\n",
       " RelationRecord(items=frozenset({'Coffee & Tea', 'Milk'}), support=0.043369474562135114, ordered_statistics=[OrderedStatistic(items_base=frozenset({'Coffee & Tea'}), items_add=frozenset({'Milk'}), confidence=0.30118358096197434, lift=1.647637296605508), OrderedStatistic(items_base=frozenset({'Milk'}), items_add=frozenset({'Coffee & Tea'}), confidence=0.23725451299345368, lift=1.6476372966055082)]),\n",
       " RelationRecord(items=frozenset({'Coffee & Tea', 'Nuts'}), support=0.035283025709830655, ordered_statistics=[OrderedStatistic(items_base=frozenset({'Coffee & Tea'}), items_add=frozenset({'Nuts'}), confidence=0.245026441702342, lift=2.0733642782526807), OrderedStatistic(items_base=frozenset({'Nuts'}), items_add=frozenset({'Coffee & Tea'}), confidence=0.29855783982816814, lift=2.07336427825268)]),\n",
       " RelationRecord(items=frozenset({'Coffee & Tea', 'Olive Oil'}), support=0.028175653624397144, ordered_statistics=[OrderedStatistic(items_base=frozenset({'Olive Oil'}), items_add=frozenset({'Coffee & Tea'}), confidence=0.4874529485570891, lift=3.3851649363784557)]),\n",
       " RelationRecord(items=frozenset({'Coffee & Tea', 'Spagetti'}), support=0.04021467164666207, ordered_statistics=[OrderedStatistic(items_base=frozenset({'Coffee & Tea'}), items_add=frozenset({'Spagetti'}), confidence=0.27927474187862, lift=2.1829817337830795), OrderedStatistic(items_base=frozenset({'Spagetti'}), items_add=frozenset({'Coffee & Tea'}), confidence=0.31434240362811794, lift=2.1829817337830795)]),\n",
       " RelationRecord(items=frozenset({'Coffee & Tea', 'Toilet Paper'}), support=0.03789389708815317, ordered_statistics=[OrderedStatistic(items_base=frozenset({'Coffee & Tea'}), items_add=frozenset({'Toilet Paper'}), confidence=0.2631578947368421, lift=2.130682696170844), OrderedStatistic(items_base=frozenset({'Toilet Paper'}), items_add=frozenset({'Coffee & Tea'}), confidence=0.30681150910158544, lift=2.1306826961708443)]),\n",
       " RelationRecord(items=frozenset({'Coffee & Tea', 'Toothbrush'}), support=0.047104471117235376, ordered_statistics=[OrderedStatistic(items_base=frozenset({'Coffee & Tea'}), items_add=frozenset({'Toothbrush'}), confidence=0.32712163183077314, lift=1.6909153216489654), OrderedStatistic(items_base=frozenset({'Toothbrush'}), items_add=frozenset({'Coffee & Tea'}), confidence=0.24348641049671976, lift=1.6909153216489654)]),\n",
       " RelationRecord(items=frozenset({'Eggs', 'Detergent'}), support=0.03803894549805998, ordered_statistics=[OrderedStatistic(items_base=frozenset({'Detergent'}), items_add=frozenset({'Eggs'}), confidence=0.2495836307399477, lift=2.2346648652323173), OrderedStatistic(items_base=frozenset({'Eggs'}), items_add=frozenset({'Detergent'}), confidence=0.3405844155844156, lift=2.2346648652323173)]),\n",
       " RelationRecord(items=frozenset({'Detergent', 'Frozen potatoes'}), support=0.028066867316967038, ordered_statistics=[OrderedStatistic(items_base=frozenset({'Frozen potatoes'}), items_add=frozenset({'Detergent'}), confidence=0.404177545691906, lift=2.6519162925400175)]),\n",
       " RelationRecord(items=frozenset({'Detergent', 'Fruit'}), support=0.042644232512601084, ordered_statistics=[OrderedStatistic(items_base=frozenset({'Detergent'}), items_add=frozenset({'Fruit'}), confidence=0.2798001427551749, lift=1.4688841684293659), OrderedStatistic(items_base=frozenset({'Fruit'}), items_add=frozenset({'Detergent'}), confidence=0.22387207310108512, lift=1.4688841684293659)]),\n",
       " RelationRecord(items=frozenset({'Detergent', 'Iced Cream'}), support=0.02335279399499583, ordered_statistics=[OrderedStatistic(items_base=frozenset({'Iced Cream'}), items_add=frozenset({'Detergent'}), confidence=0.49576597382602, lift=3.252852310302202)]),\n",
       " RelationRecord(items=frozenset({'Detergent', 'Milk'}), support=0.04645175327265475, ordered_statistics=[OrderedStatistic(items_base=frozenset({'Detergent'}), items_add=frozenset({'Milk'}), confidence=0.30478229835831555, lift=1.6673242296820605), OrderedStatistic(items_base=frozenset({'Milk'}), items_add=frozenset({'Detergent'}), confidence=0.25411624677643324, lift=1.6673242296820605)]),\n",
       " RelationRecord(items=frozenset({'Detergent', 'Nuts'}), support=0.032708416433984845, ordered_statistics=[OrderedStatistic(items_base=frozenset({'Detergent'}), items_add=frozenset({'Nuts'}), confidence=0.21460861289555083, lift=1.815974752322984), OrderedStatistic(items_base=frozenset({'Nuts'}), items_add=frozenset({'Detergent'}), confidence=0.2767720159558147, lift=1.815974752322984)]),\n",
       " RelationRecord(items=frozenset({'Olive Oil', 'Detergent'}), support=0.03205569858940421, ordered_statistics=[OrderedStatistic(items_base=frozenset({'Detergent'}), items_add=frozenset({'Olive Oil'}), confidence=0.21032595764929812, lift=3.638744626157274), OrderedStatistic(items_base=frozenset({'Olive Oil'}), items_add=frozenset({'Detergent'}), confidence=0.5545796737766625, lift=3.638744626157274)]),\n",
       " RelationRecord(items=frozenset({'Detergent', 'Spagetti'}), support=0.04913514885593067, ordered_statistics=[OrderedStatistic(items_base=frozenset({'Detergent'}), items_add=frozenset({'Spagetti'}), confidence=0.3223887699262432, lift=2.519987275582769), OrderedStatistic(items_base=frozenset({'Spagetti'}), items_add=frozenset({'Detergent'}), confidence=0.38407029478458055, lift=2.519987275582769)]),\n",
       " RelationRecord(items=frozenset({'Toilet Paper', 'Detergent'}), support=0.05033179823766182, ordered_statistics=[OrderedStatistic(items_base=frozenset({'Detergent'}), items_add=frozenset({'Toilet Paper'}), confidence=0.3302403045443731, lift=2.673821749389365), OrderedStatistic(items_base=frozenset({'Toilet Paper'}), items_add=frozenset({'Detergent'}), confidence=0.40751614797416325, lift=2.673821749389365)]),\n",
       " RelationRecord(items=frozenset({'Detergent', 'Toothbrush'}), support=0.0656706675853066, ordered_statistics=[OrderedStatistic(items_base=frozenset({'Detergent'}), items_add=frozenset({'Toothbrush'}), confidence=0.430882702831311, lift=2.227263785563086), OrderedStatistic(items_base=frozenset({'Toothbrush'}), items_add=frozenset({'Detergent'}), confidence=0.339456419868791, lift=2.227263785563086)]),\n",
       " RelationRecord(items=frozenset({'Eggs', 'Frozen potatoes'}), support=0.02625376219313196, ordered_statistics=[OrderedStatistic(items_base=frozenset({'Eggs'}), items_add=frozenset({'Frozen potatoes'}), confidence=0.2350649350649351, lift=3.385057814248415), OrderedStatistic(items_base=frozenset({'Frozen potatoes'}), items_add=frozenset({'Eggs'}), confidence=0.3780678851174935, lift=3.385057814248415)]),\n",
       " RelationRecord(items=frozenset({'Eggs', 'Fruit'}), support=0.04152010733582333, ordered_statistics=[OrderedStatistic(items_base=frozenset({'Eggs'}), items_add=frozenset({'Fruit'}), confidence=0.3717532467532467, lift=1.9516160833265346), OrderedStatistic(items_base=frozenset({'Fruit'}), items_add=frozenset({'Eggs'}), confidence=0.21797068341899867, lift=1.9516160833265346)]),\n",
       " RelationRecord(items=frozenset({'Eggs', 'Iced Cream'}), support=0.02197483410088117, ordered_statistics=[OrderedStatistic(items_base=frozenset({'Iced Cream'}), items_add=frozenset({'Eggs'}), confidence=0.46651270207852197, lift=4.17695480039591)]),\n",
       " RelationRecord(items=frozenset({'Eggs', 'Milk'}), support=0.04474743445624978, ordered_statistics=[OrderedStatistic(items_base=frozenset({'Eggs'}), items_add=frozenset({'Milk'}), confidence=0.4006493506493507, lift=2.1917689233995525), OrderedStatistic(items_base=frozenset({'Milk'}), items_add=frozenset({'Eggs'}), confidence=0.24479269986113866, lift=2.1917689233995525)]),\n",
       " RelationRecord(items=frozenset({'Eggs', 'Nuts'}), support=0.029154730391268084, ordered_statistics=[OrderedStatistic(items_base=frozenset({'Eggs'}), items_add=frozenset({'Nuts'}), confidence=0.261038961038961, lift=2.2088589839126813), OrderedStatistic(items_base=frozenset({'Nuts'}), items_add=frozenset({'Eggs'}), confidence=0.24670144216017184, lift=2.2088589839126818)]),\n",
       " RelationRecord(items=frozenset({'Eggs', 'Olive Oil'}), support=0.02926351669869819, ordered_statistics=[OrderedStatistic(items_base=frozenset({'Eggs'}), items_add=frozenset({'Olive Oil'}), confidence=0.26201298701298703, lift=4.532956174941746), OrderedStatistic(items_base=frozenset({'Olive Oil'}), items_add=frozenset({'Eggs'}), confidence=0.5062735257214555, lift=4.532956174941746)]),\n",
       " RelationRecord(items=frozenset({'Eggs', 'Spagetti'}), support=0.03927185698226783, ordered_statistics=[OrderedStatistic(items_base=frozenset({'Eggs'}), items_add=frozenset({'Spagetti'}), confidence=0.3516233766233766, lift=2.748502793974733), OrderedStatistic(items_base=frozenset({'Spagetti'}), items_add=frozenset({'Eggs'}), confidence=0.3069727891156463, lift=2.7485027939747333)]),\n",
       " RelationRecord(items=frozenset({'Eggs', 'Toilet Paper'}), support=0.033506182688472275, ordered_statistics=[OrderedStatistic(items_base=frozenset({'Eggs'}), items_add=frozenset({'Toilet Paper'}), confidence=0.3, lift=2.4289782736347623), OrderedStatistic(items_base=frozenset({'Toilet Paper'}), items_add=frozenset({'Eggs'}), confidence=0.27128596594245447, lift=2.4289782736347623)]),\n",
       " RelationRecord(items=frozenset({'Eggs', 'Toothbrush'}), support=0.039344381187221236, ordered_statistics=[OrderedStatistic(items_base=frozenset({'Eggs'}), items_add=frozenset({'Toothbrush'}), confidence=0.3522727272727273, lift=1.8209231490159326), OrderedStatistic(items_base=frozenset({'Toothbrush'}), items_add=frozenset({'Eggs'}), confidence=0.20337394564198688, lift=1.8209231490159326)]),\n",
       " RelationRecord(items=frozenset({'Frozen potatoes', 'Fruit'}), support=0.030061282953185626, ordered_statistics=[OrderedStatistic(items_base=frozenset({'Frozen potatoes'}), items_add=frozenset({'Fruit'}), confidence=0.4328981723237598, lift=2.272612392570403)]),\n",
       " RelationRecord(items=frozenset({'Frozen potatoes', 'Iced Cream'}), support=0.021866047793451065, ordered_statistics=[OrderedStatistic(items_base=frozenset({'Frozen potatoes'}), items_add=frozenset({'Iced Cream'}), confidence=0.3148825065274152, lift=6.684768962668613), OrderedStatistic(items_base=frozenset({'Iced Cream'}), items_add=frozenset({'Frozen potatoes'}), confidence=0.46420323325635104, lift=6.684768962668612)]),\n",
       " RelationRecord(items=frozenset({'Frozen potatoes', 'Milk'}), support=0.03060521449033615, ordered_statistics=[OrderedStatistic(items_base=frozenset({'Frozen potatoes'}), items_add=frozenset({'Milk'}), confidence=0.44073107049608357, lift=2.4110376375858946)]),\n",
       " RelationRecord(items=frozenset({'Frozen potatoes', 'Nuts'}), support=0.026181237988178556, ordered_statistics=[OrderedStatistic(items_base=frozenset({'Frozen potatoes'}), items_add=frozenset({'Nuts'}), confidence=0.377023498694517, lift=3.1902967239946904), OrderedStatistic(items_base=frozenset({'Nuts'}), items_add=frozenset({'Frozen potatoes'}), confidence=0.22154034980055234, lift=3.1902967239946904)]),\n",
       " RelationRecord(items=frozenset({'Olive Oil', 'Frozen potatoes'}), support=0.02317148348261232, ordered_statistics=[OrderedStatistic(items_base=frozenset({'Frozen potatoes'}), items_add=frozenset({'Olive Oil'}), confidence=0.33368146214099215, lift=5.772856763778005), OrderedStatistic(items_base=frozenset({'Olive Oil'}), items_add=frozenset({'Frozen potatoes'}), confidence=0.40087829360100374, lift=5.772856763778005)]),\n",
       " RelationRecord(items=frozenset({'Spagetti', 'Frozen potatoes'}), support=0.028103129419443738, ordered_statistics=[OrderedStatistic(items_base=frozenset({'Frozen potatoes'}), items_add=frozenset({'Spagetti'}), confidence=0.4046997389033942, lift=3.1633800169327957), OrderedStatistic(items_base=frozenset({'Spagetti'}), items_add=frozenset({'Frozen potatoes'}), confidence=0.21967120181405897, lift=3.163380016932796)]),\n",
       " RelationRecord(items=frozenset({'Toilet Paper', 'Frozen potatoes'}), support=0.02560104434855133, ordered_statistics=[OrderedStatistic(items_base=frozenset({'Frozen potatoes'}), items_add=frozenset({'Toilet Paper'}), confidence=0.368668407310705, lift=2.9849585051107788), OrderedStatistic(items_base=frozenset({'Toilet Paper'}), items_add=frozenset({'Frozen potatoes'}), confidence=0.20728126834997065, lift=2.9849585051107783)]),\n",
       " RelationRecord(items=frozenset({'Frozen potatoes', 'Toothbrush'}), support=0.029589875620988505, ordered_statistics=[OrderedStatistic(items_base=frozenset({'Frozen potatoes'}), items_add=frozenset({'Toothbrush'}), confidence=0.4261096605744125, lift=2.202591585690829)]),\n",
       " RelationRecord(items=frozenset({'Iced Cream', 'Fruit'}), support=0.024078036044529863, ordered_statistics=[OrderedStatistic(items_base=frozenset({'Iced Cream'}), items_add=frozenset({'Fruit'}), confidence=0.5111624326404928, lift=2.6834811355276735)]),\n",
       " RelationRecord(items=frozenset({'Fruit', 'Milk'}), support=0.05044058454509193, ordered_statistics=[OrderedStatistic(items_base=frozenset({'Fruit'}), items_add=frozenset({'Milk'}), confidence=0.264801066057491, lift=1.448605236791793), OrderedStatistic(items_base=frozenset({'Milk'}), items_add=frozenset({'Fruit'}), confidence=0.27593731402499505, lift=1.448605236791793)]),\n",
       " RelationRecord(items=frozenset({'Nuts', 'Fruit'}), support=0.03898176016245422, ordered_statistics=[OrderedStatistic(items_base=frozenset({'Fruit'}), items_add=frozenset({'Nuts'}), confidence=0.20464496478202934, lift=1.731664373671072), OrderedStatistic(items_base=frozenset({'Nuts'}), items_add=frozenset({'Fruit'}), confidence=0.32985578398281684, lift=1.731664373671072)]),\n",
       " RelationRecord(items=frozenset({'Olive Oil', 'Fruit'}), support=0.027740508394676722, ordered_statistics=[OrderedStatistic(items_base=frozenset({'Olive Oil'}), items_add=frozenset({'Fruit'}), confidence=0.47992471769134254, lift=2.519490565348211)]),\n",
       " RelationRecord(items=frozenset({'Spagetti', 'Fruit'}), support=0.04333321245965841, ordered_statistics=[OrderedStatistic(items_base=frozenset({'Fruit'}), items_add=frozenset({'Spagetti'}), confidence=0.2274890538739768, lift=1.778193208243384), OrderedStatistic(items_base=frozenset({'Spagetti'}), items_add=frozenset({'Fruit'}), confidence=0.33871882086167804, lift=1.778193208243384)]),\n",
       " RelationRecord(items=frozenset({'Toilet Paper', 'Fruit'}), support=0.03836530442035029, ordered_statistics=[OrderedStatistic(items_base=frozenset({'Fruit'}), items_add=frozenset({'Toilet Paper'}), confidence=0.20140871882733677, lift=1.6307246738407124), OrderedStatistic(items_base=frozenset({'Toilet Paper'}), items_add=frozenset({'Fruit'}), confidence=0.3106283029947152, lift=1.6307246738407124)]),\n",
       " RelationRecord(items=frozenset({'Fruit', 'Toothbrush'}), support=0.04612539435036443, ordered_statistics=[OrderedStatistic(items_base=frozenset({'Fruit'}), items_add=frozenset({'Toothbrush'}), confidence=0.24214734437464305, lift=1.2516770976231548), OrderedStatistic(items_base=frozenset({'Toothbrush'}), items_add=frozenset({'Fruit'}), confidence=0.23842549203373944, lift=1.251677097623155)]),\n",
       " RelationRecord(items=frozenset({'Iced Cream', 'Milk'}), support=0.02425934655691337, ordered_statistics=[OrderedStatistic(items_base=frozenset({'Iced Cream'}), items_add=frozenset({'Milk'}), confidence=0.5150115473441109, lift=2.8173920732212947)]),\n",
       " RelationRecord(items=frozenset({'Iced Cream', 'Nuts'}), support=0.022555027740508396, ordered_statistics=[OrderedStatistic(items_base=frozenset({'Iced Cream'}), items_add=frozenset({'Nuts'}), confidence=0.4788298691301001, lift=4.05176167566762)]),\n",
       " RelationRecord(items=frozenset({'Olive Oil', 'Iced Cream'}), support=0.02081444682162672, ordered_statistics=[OrderedStatistic(items_base=frozenset({'Iced Cream'}), items_add=frozenset({'Olive Oil'}), confidence=0.44187836797536567, lift=7.644717536798406), OrderedStatistic(items_base=frozenset({'Olive Oil'}), items_add=frozenset({'Iced Cream'}), confidence=0.3601003764115433, lift=7.644717536798407)]),\n",
       " RelationRecord(items=frozenset({'Spagetti', 'Iced Cream'}), support=0.023062697175182216, ordered_statistics=[OrderedStatistic(items_base=frozenset({'Iced Cream'}), items_add=frozenset({'Spagetti'}), confidence=0.4896073903002309, lift=3.82707001199248)]),\n",
       " RelationRecord(items=frozenset({'Toilet Paper', 'Iced Cream'}), support=0.0226275519454618, ordered_statistics=[OrderedStatistic(items_base=frozenset({'Iced Cream'}), items_add=frozenset({'Toilet Paper'}), confidence=0.48036951501154734, lift=3.889357050931721)]),\n",
       " RelationRecord(items=frozenset({'Iced Cream', 'Toothbrush'}), support=0.024404394966820175, ordered_statistics=[OrderedStatistic(items_base=frozenset({'Iced Cream'}), items_add=frozenset({'Toothbrush'}), confidence=0.5180908391070054, lift=2.678048935342809)]),\n",
       " RelationRecord(items=frozenset({'Nuts', 'Milk'}), support=0.03698734452623563, ordered_statistics=[OrderedStatistic(items_base=frozenset({'Milk'}), items_add=frozenset({'Nuts'}), confidence=0.2023408053957548, lift=1.7121670421597823), OrderedStatistic(items_base=frozenset({'Nuts'}), items_add=frozenset({'Milk'}), confidence=0.31297944154648666, lift=1.712167042159782)]),\n",
       " RelationRecord(items=frozenset({'Olive Oil', 'Milk'}), support=0.029082206186314682, ordered_statistics=[OrderedStatistic(items_base=frozenset({'Olive Oil'}), items_add=frozenset({'Milk'}), confidence=0.5031367628607277, lift=2.752430571198232)]),\n",
       " RelationRecord(items=frozenset({'Spagetti', 'Milk'}), support=0.04442107553395946, ordered_statistics=[OrderedStatistic(items_base=frozenset({'Milk'}), items_add=frozenset({'Spagetti'}), confidence=0.24300733981352904, lift=1.8994935969494589), OrderedStatistic(items_base=frozenset({'Spagetti'}), items_add=frozenset({'Milk'}), confidence=0.34722222222222227, lift=1.899493596949459)]),\n",
       " RelationRecord(items=frozenset({'Toilet Paper', 'Milk'}), support=0.04035972005656888, ordered_statistics=[OrderedStatistic(items_base=frozenset({'Milk'}), items_add=frozenset({'Toilet Paper'}), confidence=0.2207895258877207, lift=1.7876432047579782), OrderedStatistic(items_base=frozenset({'Toilet Paper'}), items_add=frozenset({'Milk'}), confidence=0.3267762771579566, lift=1.7876432047579782)]),\n",
       " RelationRecord(items=frozenset({'Toothbrush', 'Milk'}), support=0.049570294085651084, ordered_statistics=[OrderedStatistic(items_base=frozenset({'Milk'}), items_add=frozenset({'Toothbrush'}), confidence=0.27117635389803607, lift=1.4017301427265492), OrderedStatistic(items_base=frozenset({'Toothbrush'}), items_add=frozenset({'Milk'}), confidence=0.25623242736644797, lift=1.4017301427265494)]),\n",
       " RelationRecord(items=frozenset({'Olive Oil', 'Nuts'}), support=0.02451318127425028, ordered_statistics=[OrderedStatistic(items_base=frozenset({'Nuts'}), items_add=frozenset({'Olive Oil'}), confidence=0.20742559067198527, lift=3.5885668218076145), OrderedStatistic(items_base=frozenset({'Olive Oil'}), items_add=frozenset({'Nuts'}), confidence=0.424090338770389, lift=3.588566821807615)]),\n",
       " RelationRecord(items=frozenset({'Spagetti', 'Nuts'}), support=0.032998513253798455, ordered_statistics=[OrderedStatistic(items_base=frozenset({'Nuts'}), items_add=frozenset({'Spagetti'}), confidence=0.27922675667382635, lift=2.1826066521525256), OrderedStatistic(items_base=frozenset({'Spagetti'}), items_add=frozenset({'Nuts'}), confidence=0.25793650793650796, lift=2.1826066521525256)]),\n",
       " RelationRecord(items=frozenset({'Toilet Paper', 'Nuts'}), support=0.029879972440802118, ordered_statistics=[OrderedStatistic(items_base=frozenset({'Nuts'}), items_add=frozenset({'Toilet Paper'}), confidence=0.252838293955201, lift=2.047129075866876), OrderedStatistic(items_base=frozenset({'Toilet Paper'}), items_add=frozenset({'Nuts'}), confidence=0.24192601291837934, lift=2.0471290758668754)]),\n",
       " RelationRecord(items=frozenset({'Nuts', 'Toothbrush'}), support=0.03894549805997752, ordered_statistics=[OrderedStatistic(items_base=frozenset({'Nuts'}), items_add=frozenset({'Toothbrush'}), confidence=0.3295489413930654, lift=1.7034622599431235), OrderedStatistic(items_base=frozenset({'Toothbrush'}), items_add=frozenset({'Nuts'}), confidence=0.20131208997188377, lift=1.7034622599431233)]),\n",
       " RelationRecord(items=frozenset({'Olive Oil', 'Spagetti'}), support=0.03459404576277333, ordered_statistics=[OrderedStatistic(items_base=frozenset({'Olive Oil'}), items_add=frozenset({'Spagetti'}), confidence=0.5984943538268507, lift=4.6781969374951995), OrderedStatistic(items_base=frozenset({'Spagetti'}), items_add=frozenset({'Olive Oil'}), confidence=0.27040816326530615, lift=4.6781969374951995)]),\n",
       " RelationRecord(items=frozenset({'Olive Oil', 'Toilet Paper'}), support=0.028066867316967038, ordered_statistics=[OrderedStatistic(items_base=frozenset({'Olive Oil'}), items_add=frozenset({'Toilet Paper'}), confidence=0.48557089084065247, lift=3.931470480538072), OrderedStatistic(items_base=frozenset({'Toilet Paper'}), items_add=frozenset({'Olive Oil'}), confidence=0.22724603640634175, lift=3.931470480538072)]),\n",
       " RelationRecord(items=frozenset({'Olive Oil', 'Toothbrush'}), support=0.030496428182906044, ordered_statistics=[OrderedStatistic(items_base=frozenset({'Olive Oil'}), items_add=frozenset({'Toothbrush'}), confidence=0.527603513174404, lift=2.7272206340788263)]),\n",
       " RelationRecord(items=frozenset({'Toilet Paper', 'Spagetti'}), support=0.03988831272437176, ordered_statistics=[OrderedStatistic(items_base=frozenset({'Spagetti'}), items_add=frozenset({'Toilet Paper'}), confidence=0.3117913832199547, lift=2.5244483191593337), OrderedStatistic(items_base=frozenset({'Toilet Paper'}), items_add=frozenset({'Spagetti'}), confidence=0.3229594832648268, lift=2.524448319159334)]),\n",
       " RelationRecord(items=frozenset({'Spagetti', 'Toothbrush'}), support=0.04786597526924611, ordered_statistics=[OrderedStatistic(items_base=frozenset({'Spagetti'}), items_add=frozenset({'Toothbrush'}), confidence=0.3741496598639456, lift=1.9340065923276528), OrderedStatistic(items_base=frozenset({'Toothbrush'}), items_add=frozenset({'Spagetti'}), confidence=0.24742268041237112, lift=1.9340065923276528)]),\n",
       " RelationRecord(items=frozenset({'Toilet Paper', 'Toothbrush'}), support=0.05272509700112413, ordered_statistics=[OrderedStatistic(items_base=frozenset({'Toilet Paper'}), items_add=frozenset({'Toothbrush'}), confidence=0.4268937169700529, lift=2.2066444297812837), OrderedStatistic(items_base=frozenset({'Toothbrush'}), items_add=frozenset({'Toilet Paper'}), confidence=0.2725398313027179, lift=2.2066444297812837)])]"
      ]
     },
     "execution_count": 44,
     "metadata": {},
     "output_type": "execute_result"
    }
   ],
   "source": [
    "arr_result"
   ]
  },
  {
   "cell_type": "code",
   "execution_count": 45,
   "metadata": {},
   "outputs": [],
   "source": [
    "dff_result = pd.DataFrame(columns=('Items','Antecedent','Consequent','Support','Confidence','Lift'))"
   ]
  },
  {
   "cell_type": "code",
   "execution_count": 46,
   "metadata": {},
   "outputs": [],
   "source": [
    "Support =[]\n",
    "Confidence = []\n",
    "Lift = []\n",
    "Items = []\n",
    "Antecedent = []\n",
    "Consequent=[]"
   ]
  },
  {
   "cell_type": "code",
   "execution_count": 47,
   "metadata": {},
   "outputs": [],
   "source": [
    "for RelationRecord in arr_result:\n",
    "    for ordered_stat in RelationRecord.ordered_statistics:\n",
    "        Support.append(RelationRecord.support)\n",
    "        Items.append(RelationRecord.items)\n",
    "        Antecedent.append(ordered_stat.items_base)\n",
    "        Consequent.append(ordered_stat.items_add)\n",
    "        Confidence.append(ordered_stat.confidence)\n",
    "        Lift.append(ordered_stat.lift)"
   ]
  },
  {
   "cell_type": "code",
   "execution_count": 48,
   "metadata": {},
   "outputs": [],
   "source": [
    "dff_result['Items'] = list(map(set, Items))\n",
    "dff_result['Antecedent'] = list(map(set, Antecedent))\n",
    "dff_result['Consequent'] = list(map(set, Consequent))\n",
    "dff_result['Support'] = Support\n",
    "dff_result['Confidence'] = Confidence\n",
    "dff_result['Lift']= Lift"
   ]
  },
  {
   "cell_type": "code",
   "execution_count": 49,
   "metadata": {
    "scrolled": true
   },
   "outputs": [
    {
     "data": {
      "text/html": [
       "<div>\n",
       "<style scoped>\n",
       "    .dataframe tbody tr th:only-of-type {\n",
       "        vertical-align: middle;\n",
       "    }\n",
       "\n",
       "    .dataframe tbody tr th {\n",
       "        vertical-align: top;\n",
       "    }\n",
       "\n",
       "    .dataframe thead th {\n",
       "        text-align: right;\n",
       "    }\n",
       "</style>\n",
       "<table border=\"1\" class=\"dataframe\">\n",
       "  <thead>\n",
       "    <tr style=\"text-align: right;\">\n",
       "      <th></th>\n",
       "      <th>Items</th>\n",
       "      <th>Antecedent</th>\n",
       "      <th>Consequent</th>\n",
       "      <th>Support</th>\n",
       "      <th>Confidence</th>\n",
       "      <th>Lift</th>\n",
       "    </tr>\n",
       "  </thead>\n",
       "  <tbody>\n",
       "    <tr>\n",
       "      <th>155</th>\n",
       "      <td>{Cereals, Cheese}</td>\n",
       "      <td>{Cereals}</td>\n",
       "      <td>{Cheese}</td>\n",
       "      <td>0.071726</td>\n",
       "      <td>0.694522</td>\n",
       "      <td>1.710687</td>\n",
       "    </tr>\n",
       "    <tr>\n",
       "      <th>198</th>\n",
       "      <td>{Olive Oil, Cheese}</td>\n",
       "      <td>{Olive Oil}</td>\n",
       "      <td>{Cheese}</td>\n",
       "      <td>0.039888</td>\n",
       "      <td>0.690088</td>\n",
       "      <td>1.699763</td>\n",
       "    </tr>\n",
       "    <tr>\n",
       "      <th>253</th>\n",
       "      <td>{Chocalate, Iced Cream}</td>\n",
       "      <td>{Iced Cream}</td>\n",
       "      <td>{Chocalate}</td>\n",
       "      <td>0.032310</td>\n",
       "      <td>0.685912</td>\n",
       "      <td>1.464721</td>\n",
       "    </tr>\n",
       "    <tr>\n",
       "      <th>191</th>\n",
       "      <td>{Frozen potatoes, Cheese}</td>\n",
       "      <td>{Frozen potatoes}</td>\n",
       "      <td>{Cheese}</td>\n",
       "      <td>0.046561</td>\n",
       "      <td>0.670496</td>\n",
       "      <td>1.651507</td>\n",
       "    </tr>\n",
       "    <tr>\n",
       "      <th>228</th>\n",
       "      <td>{Chocalate, Chips}</td>\n",
       "      <td>{Chips}</td>\n",
       "      <td>{Chocalate}</td>\n",
       "      <td>0.114878</td>\n",
       "      <td>0.664569</td>\n",
       "      <td>1.419143</td>\n",
       "    </tr>\n",
       "    <tr>\n",
       "      <th>13</th>\n",
       "      <td>{Baby Diaper, Chocalate}</td>\n",
       "      <td>{Baby Diaper}</td>\n",
       "      <td>{Chocalate}</td>\n",
       "      <td>0.036480</td>\n",
       "      <td>0.640764</td>\n",
       "      <td>1.368310</td>\n",
       "    </tr>\n",
       "    <tr>\n",
       "      <th>190</th>\n",
       "      <td>{Eggs, Cheese}</td>\n",
       "      <td>{Eggs}</td>\n",
       "      <td>{Cheese}</td>\n",
       "      <td>0.069986</td>\n",
       "      <td>0.626623</td>\n",
       "      <td>1.543443</td>\n",
       "    </tr>\n",
       "    <tr>\n",
       "      <th>256</th>\n",
       "      <td>{Chocalate, Nuts}</td>\n",
       "      <td>{Nuts}</td>\n",
       "      <td>{Chocalate}</td>\n",
       "      <td>0.073938</td>\n",
       "      <td>0.625652</td>\n",
       "      <td>1.336039</td>\n",
       "    </tr>\n",
       "    <tr>\n",
       "      <th>194</th>\n",
       "      <td>{Iced Cream, Cheese}</td>\n",
       "      <td>{Iced Cream}</td>\n",
       "      <td>{Cheese}</td>\n",
       "      <td>0.029409</td>\n",
       "      <td>0.624326</td>\n",
       "      <td>1.537786</td>\n",
       "    </tr>\n",
       "    <tr>\n",
       "      <th>250</th>\n",
       "      <td>{Chocalate, Cigaret}</td>\n",
       "      <td>{Cigaret}</td>\n",
       "      <td>{Chocalate}</td>\n",
       "      <td>0.032346</td>\n",
       "      <td>0.622905</td>\n",
       "      <td>1.330173</td>\n",
       "    </tr>\n",
       "    <tr>\n",
       "      <th>9</th>\n",
       "      <td>{Baby Diaper, Cheese}</td>\n",
       "      <td>{Baby Diaper}</td>\n",
       "      <td>{Cheese}</td>\n",
       "      <td>0.034703</td>\n",
       "      <td>0.609554</td>\n",
       "      <td>1.501400</td>\n",
       "    </tr>\n",
       "    <tr>\n",
       "      <th>50</th>\n",
       "      <td>{Beverages, Iced Cream}</td>\n",
       "      <td>{Iced Cream}</td>\n",
       "      <td>{Beverages}</td>\n",
       "      <td>0.028647</td>\n",
       "      <td>0.608160</td>\n",
       "      <td>1.917589</td>\n",
       "    </tr>\n",
       "    <tr>\n",
       "      <th>251</th>\n",
       "      <td>{Chocalate, Coffee &amp; Tea}</td>\n",
       "      <td>{Coffee &amp; Tea}</td>\n",
       "      <td>{Chocalate}</td>\n",
       "      <td>0.086957</td>\n",
       "      <td>0.603878</td>\n",
       "      <td>1.289542</td>\n",
       "    </tr>\n",
       "    <tr>\n",
       "      <th>257</th>\n",
       "      <td>{Chocalate, Olive Oil}</td>\n",
       "      <td>{Olive Oil}</td>\n",
       "      <td>{Chocalate}</td>\n",
       "      <td>0.034775</td>\n",
       "      <td>0.601631</td>\n",
       "      <td>1.284744</td>\n",
       "    </tr>\n",
       "    <tr>\n",
       "      <th>43</th>\n",
       "      <td>{Beverages, Cigaret}</td>\n",
       "      <td>{Cigaret}</td>\n",
       "      <td>{Beverages}</td>\n",
       "      <td>0.031149</td>\n",
       "      <td>0.599860</td>\n",
       "      <td>1.891419</td>\n",
       "    </tr>\n",
       "    <tr>\n",
       "      <th>380</th>\n",
       "      <td>{Olive Oil, Spagetti}</td>\n",
       "      <td>{Olive Oil}</td>\n",
       "      <td>{Spagetti}</td>\n",
       "      <td>0.034594</td>\n",
       "      <td>0.598494</td>\n",
       "      <td>4.678197</td>\n",
       "    </tr>\n",
       "    <tr>\n",
       "      <th>187</th>\n",
       "      <td>{Cigaret, Cheese}</td>\n",
       "      <td>{Cigaret}</td>\n",
       "      <td>{Cheese}</td>\n",
       "      <td>0.030496</td>\n",
       "      <td>0.587291</td>\n",
       "      <td>1.446562</td>\n",
       "    </tr>\n",
       "    <tr>\n",
       "      <th>199</th>\n",
       "      <td>{Spagetti, Cheese}</td>\n",
       "      <td>{Spagetti}</td>\n",
       "      <td>{Cheese}</td>\n",
       "      <td>0.073467</td>\n",
       "      <td>0.574263</td>\n",
       "      <td>1.414474</td>\n",
       "    </tr>\n",
       "    <tr>\n",
       "      <th>252</th>\n",
       "      <td>{Chocalate, Frozen potatoes}</td>\n",
       "      <td>{Frozen potatoes}</td>\n",
       "      <td>{Chocalate}</td>\n",
       "      <td>0.039308</td>\n",
       "      <td>0.566057</td>\n",
       "      <td>1.208779</td>\n",
       "    </tr>\n",
       "    <tr>\n",
       "      <th>125</th>\n",
       "      <td>{Cheese, Canned Food}</td>\n",
       "      <td>{Canned Food}</td>\n",
       "      <td>{Cheese}</td>\n",
       "      <td>0.087102</td>\n",
       "      <td>0.561215</td>\n",
       "      <td>1.382335</td>\n",
       "    </tr>\n",
       "    <tr>\n",
       "      <th>116</th>\n",
       "      <td>{Olive Oil, Cacao Powder}</td>\n",
       "      <td>{Olive Oil}</td>\n",
       "      <td>{Cacao Powder}</td>\n",
       "      <td>0.032237</td>\n",
       "      <td>0.557716</td>\n",
       "      <td>3.977281</td>\n",
       "    </tr>\n",
       "    <tr>\n",
       "      <th>148</th>\n",
       "      <td>{Olive Oil, Canned Food}</td>\n",
       "      <td>{Olive Oil}</td>\n",
       "      <td>{Canned Food}</td>\n",
       "      <td>0.032092</td>\n",
       "      <td>0.555207</td>\n",
       "      <td>3.577323</td>\n",
       "    </tr>\n",
       "    <tr>\n",
       "      <th>307</th>\n",
       "      <td>{Olive Oil, Detergent}</td>\n",
       "      <td>{Olive Oil}</td>\n",
       "      <td>{Detergent}</td>\n",
       "      <td>0.032056</td>\n",
       "      <td>0.554580</td>\n",
       "      <td>3.638745</td>\n",
       "    </tr>\n",
       "    <tr>\n",
       "      <th>93</th>\n",
       "      <td>{Cacao Powder, Cheese}</td>\n",
       "      <td>{Cacao Powder}</td>\n",
       "      <td>{Cheese}</td>\n",
       "      <td>0.077746</td>\n",
       "      <td>0.554435</td>\n",
       "      <td>1.365635</td>\n",
       "    </tr>\n",
       "    <tr>\n",
       "      <th>239</th>\n",
       "      <td>{Iced Cream, Chips}</td>\n",
       "      <td>{Iced Cream}</td>\n",
       "      <td>{Chips}</td>\n",
       "      <td>0.025746</td>\n",
       "      <td>0.546574</td>\n",
       "      <td>3.161921</td>\n",
       "    </tr>\n",
       "    <tr>\n",
       "      <th>159</th>\n",
       "      <td>{Chocalate, Cereals}</td>\n",
       "      <td>{Cereals}</td>\n",
       "      <td>{Chocalate}</td>\n",
       "      <td>0.056315</td>\n",
       "      <td>0.545295</td>\n",
       "      <td>1.164442</td>\n",
       "    </tr>\n",
       "    <tr>\n",
       "      <th>41</th>\n",
       "      <td>{Beverages, Chocalate}</td>\n",
       "      <td>{Beverages}</td>\n",
       "      <td>{Chocalate}</td>\n",
       "      <td>0.172100</td>\n",
       "      <td>0.542648</td>\n",
       "      <td>1.158789</td>\n",
       "    </tr>\n",
       "    <tr>\n",
       "      <th>255</th>\n",
       "      <td>{Chocalate, Milk}</td>\n",
       "      <td>{Milk}</td>\n",
       "      <td>{Chocalate}</td>\n",
       "      <td>0.097509</td>\n",
       "      <td>0.533426</td>\n",
       "      <td>1.139096</td>\n",
       "    </tr>\n",
       "    <tr>\n",
       "      <th>185</th>\n",
       "      <td>{Chicken &amp; Meat, Cheese}</td>\n",
       "      <td>{Chicken &amp; Meat}</td>\n",
       "      <td>{Cheese}</td>\n",
       "      <td>0.060594</td>\n",
       "      <td>0.530813</td>\n",
       "      <td>1.307452</td>\n",
       "    </tr>\n",
       "    <tr>\n",
       "      <th>384</th>\n",
       "      <td>{Olive Oil, Toothbrush}</td>\n",
       "      <td>{Olive Oil}</td>\n",
       "      <td>{Toothbrush}</td>\n",
       "      <td>0.030496</td>\n",
       "      <td>0.527604</td>\n",
       "      <td>2.727221</td>\n",
       "    </tr>\n",
       "    <tr>\n",
       "      <th>25</th>\n",
       "      <td>{Baby Diaper, Milk}</td>\n",
       "      <td>{Baby Diaper}</td>\n",
       "      <td>{Milk}</td>\n",
       "      <td>0.029952</td>\n",
       "      <td>0.526115</td>\n",
       "      <td>2.878132</td>\n",
       "    </tr>\n",
       "    <tr>\n",
       "      <th>3</th>\n",
       "      <td>{Beverages, Baby Diaper}</td>\n",
       "      <td>{Baby Diaper}</td>\n",
       "      <td>{Beverages}</td>\n",
       "      <td>0.029771</td>\n",
       "      <td>0.522930</td>\n",
       "      <td>1.648850</td>\n",
       "    </tr>\n",
       "    <tr>\n",
       "      <th>98</th>\n",
       "      <td>{Chocalate, Cacao Powder}</td>\n",
       "      <td>{Cacao Powder}</td>\n",
       "      <td>{Chocalate}</td>\n",
       "      <td>0.073104</td>\n",
       "      <td>0.521334</td>\n",
       "      <td>1.113275</td>\n",
       "    </tr>\n",
       "    <tr>\n",
       "      <th>69</th>\n",
       "      <td>{Cigaret, Bread}</td>\n",
       "      <td>{Cigaret}</td>\n",
       "      <td>{Bread}</td>\n",
       "      <td>0.027052</td>\n",
       "      <td>0.520950</td>\n",
       "      <td>3.003602</td>\n",
       "    </tr>\n",
       "    <tr>\n",
       "      <th>196</th>\n",
       "      <td>{Milk, Cheese}</td>\n",
       "      <td>{Milk}</td>\n",
       "      <td>{Cheese}</td>\n",
       "      <td>0.095043</td>\n",
       "      <td>0.519937</td>\n",
       "      <td>1.280662</td>\n",
       "    </tr>\n",
       "    <tr>\n",
       "      <th>362</th>\n",
       "      <td>{Iced Cream, Toothbrush}</td>\n",
       "      <td>{Iced Cream}</td>\n",
       "      <td>{Toothbrush}</td>\n",
       "      <td>0.024404</td>\n",
       "      <td>0.518091</td>\n",
       "      <td>2.678049</td>\n",
       "    </tr>\n",
       "    <tr>\n",
       "      <th>258</th>\n",
       "      <td>{Chocalate, Spagetti}</td>\n",
       "      <td>{Spagetti}</td>\n",
       "      <td>{Chocalate}</td>\n",
       "      <td>0.066251</td>\n",
       "      <td>0.517857</td>\n",
       "      <td>1.105850</td>\n",
       "    </tr>\n",
       "    <tr>\n",
       "      <th>54</th>\n",
       "      <td>{Beverages, Olive Oil}</td>\n",
       "      <td>{Olive Oil}</td>\n",
       "      <td>{Beverages}</td>\n",
       "      <td>0.029807</td>\n",
       "      <td>0.515684</td>\n",
       "      <td>1.626002</td>\n",
       "    </tr>\n",
       "    <tr>\n",
       "      <th>356</th>\n",
       "      <td>{Iced Cream, Milk}</td>\n",
       "      <td>{Iced Cream}</td>\n",
       "      <td>{Milk}</td>\n",
       "      <td>0.024259</td>\n",
       "      <td>0.515012</td>\n",
       "      <td>2.817392</td>\n",
       "    </tr>\n",
       "    <tr>\n",
       "      <th>344</th>\n",
       "      <td>{Iced Cream, Fruit}</td>\n",
       "      <td>{Iced Cream}</td>\n",
       "      <td>{Fruit}</td>\n",
       "      <td>0.024078</td>\n",
       "      <td>0.511162</td>\n",
       "      <td>2.683481</td>\n",
       "    </tr>\n",
       "  </tbody>\n",
       "</table>\n",
       "</div>"
      ],
      "text/plain": [
       "                            Items         Antecedent      Consequent  \\\n",
       "155             {Cereals, Cheese}          {Cereals}        {Cheese}   \n",
       "198           {Olive Oil, Cheese}        {Olive Oil}        {Cheese}   \n",
       "253       {Chocalate, Iced Cream}       {Iced Cream}     {Chocalate}   \n",
       "191     {Frozen potatoes, Cheese}  {Frozen potatoes}        {Cheese}   \n",
       "228            {Chocalate, Chips}            {Chips}     {Chocalate}   \n",
       "13       {Baby Diaper, Chocalate}      {Baby Diaper}     {Chocalate}   \n",
       "190                {Eggs, Cheese}             {Eggs}        {Cheese}   \n",
       "256             {Chocalate, Nuts}             {Nuts}     {Chocalate}   \n",
       "194          {Iced Cream, Cheese}       {Iced Cream}        {Cheese}   \n",
       "250          {Chocalate, Cigaret}          {Cigaret}     {Chocalate}   \n",
       "9           {Baby Diaper, Cheese}      {Baby Diaper}        {Cheese}   \n",
       "50        {Beverages, Iced Cream}       {Iced Cream}     {Beverages}   \n",
       "251     {Chocalate, Coffee & Tea}     {Coffee & Tea}     {Chocalate}   \n",
       "257        {Chocalate, Olive Oil}        {Olive Oil}     {Chocalate}   \n",
       "43           {Beverages, Cigaret}          {Cigaret}     {Beverages}   \n",
       "380         {Olive Oil, Spagetti}        {Olive Oil}      {Spagetti}   \n",
       "187             {Cigaret, Cheese}          {Cigaret}        {Cheese}   \n",
       "199            {Spagetti, Cheese}         {Spagetti}        {Cheese}   \n",
       "252  {Chocalate, Frozen potatoes}  {Frozen potatoes}     {Chocalate}   \n",
       "125         {Cheese, Canned Food}      {Canned Food}        {Cheese}   \n",
       "116     {Olive Oil, Cacao Powder}        {Olive Oil}  {Cacao Powder}   \n",
       "148      {Olive Oil, Canned Food}        {Olive Oil}   {Canned Food}   \n",
       "307        {Olive Oil, Detergent}        {Olive Oil}     {Detergent}   \n",
       "93         {Cacao Powder, Cheese}     {Cacao Powder}        {Cheese}   \n",
       "239           {Iced Cream, Chips}       {Iced Cream}         {Chips}   \n",
       "159          {Chocalate, Cereals}          {Cereals}     {Chocalate}   \n",
       "41         {Beverages, Chocalate}        {Beverages}     {Chocalate}   \n",
       "255             {Chocalate, Milk}             {Milk}     {Chocalate}   \n",
       "185      {Chicken & Meat, Cheese}   {Chicken & Meat}        {Cheese}   \n",
       "384       {Olive Oil, Toothbrush}        {Olive Oil}    {Toothbrush}   \n",
       "25            {Baby Diaper, Milk}      {Baby Diaper}          {Milk}   \n",
       "3        {Beverages, Baby Diaper}      {Baby Diaper}     {Beverages}   \n",
       "98      {Chocalate, Cacao Powder}     {Cacao Powder}     {Chocalate}   \n",
       "69               {Cigaret, Bread}          {Cigaret}         {Bread}   \n",
       "196                {Milk, Cheese}             {Milk}        {Cheese}   \n",
       "362      {Iced Cream, Toothbrush}       {Iced Cream}    {Toothbrush}   \n",
       "258         {Chocalate, Spagetti}         {Spagetti}     {Chocalate}   \n",
       "54         {Beverages, Olive Oil}        {Olive Oil}     {Beverages}   \n",
       "356            {Iced Cream, Milk}       {Iced Cream}          {Milk}   \n",
       "344           {Iced Cream, Fruit}       {Iced Cream}         {Fruit}   \n",
       "\n",
       "      Support  Confidence      Lift  \n",
       "155  0.071726    0.694522  1.710687  \n",
       "198  0.039888    0.690088  1.699763  \n",
       "253  0.032310    0.685912  1.464721  \n",
       "191  0.046561    0.670496  1.651507  \n",
       "228  0.114878    0.664569  1.419143  \n",
       "13   0.036480    0.640764  1.368310  \n",
       "190  0.069986    0.626623  1.543443  \n",
       "256  0.073938    0.625652  1.336039  \n",
       "194  0.029409    0.624326  1.537786  \n",
       "250  0.032346    0.622905  1.330173  \n",
       "9    0.034703    0.609554  1.501400  \n",
       "50   0.028647    0.608160  1.917589  \n",
       "251  0.086957    0.603878  1.289542  \n",
       "257  0.034775    0.601631  1.284744  \n",
       "43   0.031149    0.599860  1.891419  \n",
       "380  0.034594    0.598494  4.678197  \n",
       "187  0.030496    0.587291  1.446562  \n",
       "199  0.073467    0.574263  1.414474  \n",
       "252  0.039308    0.566057  1.208779  \n",
       "125  0.087102    0.561215  1.382335  \n",
       "116  0.032237    0.557716  3.977281  \n",
       "148  0.032092    0.555207  3.577323  \n",
       "307  0.032056    0.554580  3.638745  \n",
       "93   0.077746    0.554435  1.365635  \n",
       "239  0.025746    0.546574  3.161921  \n",
       "159  0.056315    0.545295  1.164442  \n",
       "41   0.172100    0.542648  1.158789  \n",
       "255  0.097509    0.533426  1.139096  \n",
       "185  0.060594    0.530813  1.307452  \n",
       "384  0.030496    0.527604  2.727221  \n",
       "25   0.029952    0.526115  2.878132  \n",
       "3    0.029771    0.522930  1.648850  \n",
       "98   0.073104    0.521334  1.113275  \n",
       "69   0.027052    0.520950  3.003602  \n",
       "196  0.095043    0.519937  1.280662  \n",
       "362  0.024404    0.518091  2.678049  \n",
       "258  0.066251    0.517857  1.105850  \n",
       "54   0.029807    0.515684  1.626002  \n",
       "356  0.024259    0.515012  2.817392  \n",
       "344  0.024078    0.511162  2.683481  "
      ]
     },
     "execution_count": 49,
     "metadata": {},
     "output_type": "execute_result"
    }
   ],
   "source": [
    "dff_result.sort_values(by='Confidence',ascending=False).head(40)"
   ]
  },
  {
   "cell_type": "code",
   "execution_count": 50,
   "metadata": {},
   "outputs": [],
   "source": [
    "dff_result['Antecedent']=dff_result['Antecedent'].astype(str).str.lstrip('{').str.rstrip('}')\n",
    "dff_result['Antecedent']=dff_result['Antecedent'].astype(str).str.lstrip('\"').str.rstrip('\"')\n",
    "dff_result['Antecedent']=dff_result['Antecedent'].astype(str).str.lstrip(\"'\").str.rstrip(\"'\")\n",
    "dff_result['Consequent']=dff_result['Consequent'].astype(str).str.lstrip('{').str.rstrip('}')\n",
    "dff_result['Consequent']=dff_result['Consequent'].astype(str).str.lstrip('\"').str.rstrip('\"')\n",
    "dff_result['Consequent']=dff_result['Consequent'].astype(str).str.lstrip(\"'\").str.rstrip(\"'\")"
   ]
  },
  {
   "cell_type": "code",
   "execution_count": 53,
   "metadata": {},
   "outputs": [],
   "source": [
    "dff_result_list=dff_result[['Antecedent','Consequent','Support','Confidence','Lift']]"
   ]
  },
  {
   "cell_type": "code",
   "execution_count": 54,
   "metadata": {},
   "outputs": [],
   "source": [
    "dff_result_last=dff_result_list[(dff_result_list['Support']>=0.06) & (dff_result_list['Confidence'] >=0.5)].sort_values(by='Confidence',ascending=False).head(40)"
   ]
  },
  {
   "cell_type": "code",
   "execution_count": 56,
   "metadata": {},
   "outputs": [],
   "source": [
    "dff_result_last_2 = dff_result_last.drop_duplicates('Support')"
   ]
  },
  {
   "cell_type": "code",
   "execution_count": 57,
   "metadata": {},
   "outputs": [
    {
     "data": {
      "text/html": [
       "<div>\n",
       "<style scoped>\n",
       "    .dataframe tbody tr th:only-of-type {\n",
       "        vertical-align: middle;\n",
       "    }\n",
       "\n",
       "    .dataframe tbody tr th {\n",
       "        vertical-align: top;\n",
       "    }\n",
       "\n",
       "    .dataframe thead th {\n",
       "        text-align: right;\n",
       "    }\n",
       "</style>\n",
       "<table border=\"1\" class=\"dataframe\">\n",
       "  <thead>\n",
       "    <tr style=\"text-align: right;\">\n",
       "      <th></th>\n",
       "      <th>Antecedent</th>\n",
       "      <th>Consequent</th>\n",
       "      <th>Support</th>\n",
       "      <th>Confidence</th>\n",
       "      <th>Lift</th>\n",
       "    </tr>\n",
       "  </thead>\n",
       "  <tbody>\n",
       "    <tr>\n",
       "      <th>155</th>\n",
       "      <td>Cereals</td>\n",
       "      <td>Cheese</td>\n",
       "      <td>0.071726</td>\n",
       "      <td>0.694522</td>\n",
       "      <td>1.710687</td>\n",
       "    </tr>\n",
       "    <tr>\n",
       "      <th>228</th>\n",
       "      <td>Chips</td>\n",
       "      <td>Chocalate</td>\n",
       "      <td>0.114878</td>\n",
       "      <td>0.664569</td>\n",
       "      <td>1.419143</td>\n",
       "    </tr>\n",
       "    <tr>\n",
       "      <th>190</th>\n",
       "      <td>Eggs</td>\n",
       "      <td>Cheese</td>\n",
       "      <td>0.069986</td>\n",
       "      <td>0.626623</td>\n",
       "      <td>1.543443</td>\n",
       "    </tr>\n",
       "    <tr>\n",
       "      <th>256</th>\n",
       "      <td>Nuts</td>\n",
       "      <td>Chocalate</td>\n",
       "      <td>0.073938</td>\n",
       "      <td>0.625652</td>\n",
       "      <td>1.336039</td>\n",
       "    </tr>\n",
       "    <tr>\n",
       "      <th>251</th>\n",
       "      <td>Coffee &amp; Tea</td>\n",
       "      <td>Chocalate</td>\n",
       "      <td>0.086957</td>\n",
       "      <td>0.603878</td>\n",
       "      <td>1.289542</td>\n",
       "    </tr>\n",
       "    <tr>\n",
       "      <th>199</th>\n",
       "      <td>Spagetti</td>\n",
       "      <td>Cheese</td>\n",
       "      <td>0.073467</td>\n",
       "      <td>0.574263</td>\n",
       "      <td>1.414474</td>\n",
       "    </tr>\n",
       "    <tr>\n",
       "      <th>125</th>\n",
       "      <td>Canned Food</td>\n",
       "      <td>Cheese</td>\n",
       "      <td>0.087102</td>\n",
       "      <td>0.561215</td>\n",
       "      <td>1.382335</td>\n",
       "    </tr>\n",
       "    <tr>\n",
       "      <th>93</th>\n",
       "      <td>Cacao Powder</td>\n",
       "      <td>Cheese</td>\n",
       "      <td>0.077746</td>\n",
       "      <td>0.554435</td>\n",
       "      <td>1.365635</td>\n",
       "    </tr>\n",
       "    <tr>\n",
       "      <th>41</th>\n",
       "      <td>Beverages</td>\n",
       "      <td>Chocalate</td>\n",
       "      <td>0.172100</td>\n",
       "      <td>0.542648</td>\n",
       "      <td>1.158789</td>\n",
       "    </tr>\n",
       "    <tr>\n",
       "      <th>255</th>\n",
       "      <td>Milk</td>\n",
       "      <td>Chocalate</td>\n",
       "      <td>0.097509</td>\n",
       "      <td>0.533426</td>\n",
       "      <td>1.139096</td>\n",
       "    </tr>\n",
       "    <tr>\n",
       "      <th>185</th>\n",
       "      <td>Chicken &amp; Meat</td>\n",
       "      <td>Cheese</td>\n",
       "      <td>0.060594</td>\n",
       "      <td>0.530813</td>\n",
       "      <td>1.307452</td>\n",
       "    </tr>\n",
       "    <tr>\n",
       "      <th>98</th>\n",
       "      <td>Cacao Powder</td>\n",
       "      <td>Chocalate</td>\n",
       "      <td>0.073104</td>\n",
       "      <td>0.521334</td>\n",
       "      <td>1.113275</td>\n",
       "    </tr>\n",
       "    <tr>\n",
       "      <th>196</th>\n",
       "      <td>Milk</td>\n",
       "      <td>Cheese</td>\n",
       "      <td>0.095043</td>\n",
       "      <td>0.519937</td>\n",
       "      <td>1.280662</td>\n",
       "    </tr>\n",
       "    <tr>\n",
       "      <th>258</th>\n",
       "      <td>Spagetti</td>\n",
       "      <td>Chocalate</td>\n",
       "      <td>0.066251</td>\n",
       "      <td>0.517857</td>\n",
       "      <td>1.105850</td>\n",
       "    </tr>\n",
       "    <tr>\n",
       "      <th>63</th>\n",
       "      <td>Bread</td>\n",
       "      <td>Cheese</td>\n",
       "      <td>0.088226</td>\n",
       "      <td>0.508677</td>\n",
       "      <td>1.252927</td>\n",
       "    </tr>\n",
       "    <tr>\n",
       "      <th>200</th>\n",
       "      <td>Toilet Paper</td>\n",
       "      <td>Cheese</td>\n",
       "      <td>0.062335</td>\n",
       "      <td>0.504698</td>\n",
       "      <td>1.243127</td>\n",
       "    </tr>\n",
       "  </tbody>\n",
       "</table>\n",
       "</div>"
      ],
      "text/plain": [
       "         Antecedent Consequent   Support  Confidence      Lift\n",
       "155         Cereals     Cheese  0.071726    0.694522  1.710687\n",
       "228           Chips  Chocalate  0.114878    0.664569  1.419143\n",
       "190            Eggs     Cheese  0.069986    0.626623  1.543443\n",
       "256            Nuts  Chocalate  0.073938    0.625652  1.336039\n",
       "251    Coffee & Tea  Chocalate  0.086957    0.603878  1.289542\n",
       "199        Spagetti     Cheese  0.073467    0.574263  1.414474\n",
       "125     Canned Food     Cheese  0.087102    0.561215  1.382335\n",
       "93     Cacao Powder     Cheese  0.077746    0.554435  1.365635\n",
       "41        Beverages  Chocalate  0.172100    0.542648  1.158789\n",
       "255            Milk  Chocalate  0.097509    0.533426  1.139096\n",
       "185  Chicken & Meat     Cheese  0.060594    0.530813  1.307452\n",
       "98     Cacao Powder  Chocalate  0.073104    0.521334  1.113275\n",
       "196            Milk     Cheese  0.095043    0.519937  1.280662\n",
       "258        Spagetti  Chocalate  0.066251    0.517857  1.105850\n",
       "63            Bread     Cheese  0.088226    0.508677  1.252927\n",
       "200    Toilet Paper     Cheese  0.062335    0.504698  1.243127"
      ]
     },
     "execution_count": 57,
     "metadata": {},
     "output_type": "execute_result"
    }
   ],
   "source": [
    "dff_result_last_2"
   ]
  },
  {
   "cell_type": "code",
   "execution_count": 80,
   "metadata": {
    "scrolled": true
   },
   "outputs": [
    {
     "data": {
      "text/html": [
       "<div>\n",
       "<style scoped>\n",
       "    .dataframe tbody tr th:only-of-type {\n",
       "        vertical-align: middle;\n",
       "    }\n",
       "\n",
       "    .dataframe tbody tr th {\n",
       "        vertical-align: top;\n",
       "    }\n",
       "\n",
       "    .dataframe thead th {\n",
       "        text-align: right;\n",
       "    }\n",
       "</style>\n",
       "<table border=\"1\" class=\"dataframe\">\n",
       "  <thead>\n",
       "    <tr style=\"text-align: right;\">\n",
       "      <th></th>\n",
       "      <th>Antecedent</th>\n",
       "      <th>Consequent</th>\n",
       "      <th>Confidence</th>\n",
       "    </tr>\n",
       "  </thead>\n",
       "  <tbody>\n",
       "    <tr>\n",
       "      <th>155</th>\n",
       "      <td>Cereals</td>\n",
       "      <td>Cheese</td>\n",
       "      <td>0.694522</td>\n",
       "    </tr>\n",
       "    <tr>\n",
       "      <th>228</th>\n",
       "      <td>Chips</td>\n",
       "      <td>Chocalate</td>\n",
       "      <td>0.664569</td>\n",
       "    </tr>\n",
       "    <tr>\n",
       "      <th>190</th>\n",
       "      <td>Eggs</td>\n",
       "      <td>Cheese</td>\n",
       "      <td>0.626623</td>\n",
       "    </tr>\n",
       "    <tr>\n",
       "      <th>256</th>\n",
       "      <td>Nuts</td>\n",
       "      <td>Chocalate</td>\n",
       "      <td>0.625652</td>\n",
       "    </tr>\n",
       "    <tr>\n",
       "      <th>251</th>\n",
       "      <td>Coffee &amp; Tea</td>\n",
       "      <td>Chocalate</td>\n",
       "      <td>0.603878</td>\n",
       "    </tr>\n",
       "    <tr>\n",
       "      <th>199</th>\n",
       "      <td>Spagetti</td>\n",
       "      <td>Cheese</td>\n",
       "      <td>0.574263</td>\n",
       "    </tr>\n",
       "    <tr>\n",
       "      <th>125</th>\n",
       "      <td>Canned Food</td>\n",
       "      <td>Cheese</td>\n",
       "      <td>0.561215</td>\n",
       "    </tr>\n",
       "    <tr>\n",
       "      <th>93</th>\n",
       "      <td>Cacao Powder</td>\n",
       "      <td>Cheese</td>\n",
       "      <td>0.554435</td>\n",
       "    </tr>\n",
       "    <tr>\n",
       "      <th>41</th>\n",
       "      <td>Beverages</td>\n",
       "      <td>Chocalate</td>\n",
       "      <td>0.542648</td>\n",
       "    </tr>\n",
       "    <tr>\n",
       "      <th>255</th>\n",
       "      <td>Milk</td>\n",
       "      <td>Chocalate</td>\n",
       "      <td>0.533426</td>\n",
       "    </tr>\n",
       "    <tr>\n",
       "      <th>185</th>\n",
       "      <td>Chicken &amp; Meat</td>\n",
       "      <td>Cheese</td>\n",
       "      <td>0.530813</td>\n",
       "    </tr>\n",
       "    <tr>\n",
       "      <th>98</th>\n",
       "      <td>Cacao Powder</td>\n",
       "      <td>Chocalate</td>\n",
       "      <td>0.521334</td>\n",
       "    </tr>\n",
       "    <tr>\n",
       "      <th>196</th>\n",
       "      <td>Milk</td>\n",
       "      <td>Cheese</td>\n",
       "      <td>0.519937</td>\n",
       "    </tr>\n",
       "    <tr>\n",
       "      <th>258</th>\n",
       "      <td>Spagetti</td>\n",
       "      <td>Chocalate</td>\n",
       "      <td>0.517857</td>\n",
       "    </tr>\n",
       "    <tr>\n",
       "      <th>63</th>\n",
       "      <td>Bread</td>\n",
       "      <td>Cheese</td>\n",
       "      <td>0.508677</td>\n",
       "    </tr>\n",
       "    <tr>\n",
       "      <th>200</th>\n",
       "      <td>Toilet Paper</td>\n",
       "      <td>Cheese</td>\n",
       "      <td>0.504698</td>\n",
       "    </tr>\n",
       "    <tr>\n",
       "      <th>155</th>\n",
       "      <td>Cheese</td>\n",
       "      <td>Cereals</td>\n",
       "      <td>0.694522</td>\n",
       "    </tr>\n",
       "    <tr>\n",
       "      <th>228</th>\n",
       "      <td>Chocalate</td>\n",
       "      <td>Chips</td>\n",
       "      <td>0.664569</td>\n",
       "    </tr>\n",
       "    <tr>\n",
       "      <th>190</th>\n",
       "      <td>Cheese</td>\n",
       "      <td>Eggs</td>\n",
       "      <td>0.626623</td>\n",
       "    </tr>\n",
       "    <tr>\n",
       "      <th>256</th>\n",
       "      <td>Chocalate</td>\n",
       "      <td>Nuts</td>\n",
       "      <td>0.625652</td>\n",
       "    </tr>\n",
       "    <tr>\n",
       "      <th>251</th>\n",
       "      <td>Chocalate</td>\n",
       "      <td>Coffee &amp; Tea</td>\n",
       "      <td>0.603878</td>\n",
       "    </tr>\n",
       "    <tr>\n",
       "      <th>199</th>\n",
       "      <td>Cheese</td>\n",
       "      <td>Spagetti</td>\n",
       "      <td>0.574263</td>\n",
       "    </tr>\n",
       "    <tr>\n",
       "      <th>125</th>\n",
       "      <td>Cheese</td>\n",
       "      <td>Canned Food</td>\n",
       "      <td>0.561215</td>\n",
       "    </tr>\n",
       "    <tr>\n",
       "      <th>93</th>\n",
       "      <td>Cheese</td>\n",
       "      <td>Cacao Powder</td>\n",
       "      <td>0.554435</td>\n",
       "    </tr>\n",
       "    <tr>\n",
       "      <th>41</th>\n",
       "      <td>Chocalate</td>\n",
       "      <td>Beverages</td>\n",
       "      <td>0.542648</td>\n",
       "    </tr>\n",
       "    <tr>\n",
       "      <th>255</th>\n",
       "      <td>Chocalate</td>\n",
       "      <td>Milk</td>\n",
       "      <td>0.533426</td>\n",
       "    </tr>\n",
       "    <tr>\n",
       "      <th>185</th>\n",
       "      <td>Cheese</td>\n",
       "      <td>Chicken &amp; Meat</td>\n",
       "      <td>0.530813</td>\n",
       "    </tr>\n",
       "    <tr>\n",
       "      <th>98</th>\n",
       "      <td>Chocalate</td>\n",
       "      <td>Cacao Powder</td>\n",
       "      <td>0.521334</td>\n",
       "    </tr>\n",
       "    <tr>\n",
       "      <th>196</th>\n",
       "      <td>Cheese</td>\n",
       "      <td>Milk</td>\n",
       "      <td>0.519937</td>\n",
       "    </tr>\n",
       "    <tr>\n",
       "      <th>258</th>\n",
       "      <td>Chocalate</td>\n",
       "      <td>Spagetti</td>\n",
       "      <td>0.517857</td>\n",
       "    </tr>\n",
       "    <tr>\n",
       "      <th>63</th>\n",
       "      <td>Cheese</td>\n",
       "      <td>Bread</td>\n",
       "      <td>0.508677</td>\n",
       "    </tr>\n",
       "    <tr>\n",
       "      <th>200</th>\n",
       "      <td>Cheese</td>\n",
       "      <td>Toilet Paper</td>\n",
       "      <td>0.504698</td>\n",
       "    </tr>\n",
       "  </tbody>\n",
       "</table>\n",
       "</div>"
      ],
      "text/plain": [
       "         Antecedent      Consequent  Confidence\n",
       "155         Cereals          Cheese    0.694522\n",
       "228           Chips       Chocalate    0.664569\n",
       "190            Eggs          Cheese    0.626623\n",
       "256            Nuts       Chocalate    0.625652\n",
       "251    Coffee & Tea       Chocalate    0.603878\n",
       "199        Spagetti          Cheese    0.574263\n",
       "125     Canned Food          Cheese    0.561215\n",
       "93     Cacao Powder          Cheese    0.554435\n",
       "41        Beverages       Chocalate    0.542648\n",
       "255            Milk       Chocalate    0.533426\n",
       "185  Chicken & Meat          Cheese    0.530813\n",
       "98     Cacao Powder       Chocalate    0.521334\n",
       "196            Milk          Cheese    0.519937\n",
       "258        Spagetti       Chocalate    0.517857\n",
       "63            Bread          Cheese    0.508677\n",
       "200    Toilet Paper          Cheese    0.504698\n",
       "155          Cheese         Cereals    0.694522\n",
       "228       Chocalate           Chips    0.664569\n",
       "190          Cheese            Eggs    0.626623\n",
       "256       Chocalate            Nuts    0.625652\n",
       "251       Chocalate    Coffee & Tea    0.603878\n",
       "199          Cheese        Spagetti    0.574263\n",
       "125          Cheese     Canned Food    0.561215\n",
       "93           Cheese    Cacao Powder    0.554435\n",
       "41        Chocalate       Beverages    0.542648\n",
       "255       Chocalate            Milk    0.533426\n",
       "185          Cheese  Chicken & Meat    0.530813\n",
       "98        Chocalate    Cacao Powder    0.521334\n",
       "196          Cheese            Milk    0.519937\n",
       "258       Chocalate        Spagetti    0.517857\n",
       "63           Cheese           Bread    0.508677\n",
       "200          Cheese    Toilet Paper    0.504698"
      ]
     },
     "execution_count": 80,
     "metadata": {},
     "output_type": "execute_result"
    }
   ],
   "source": [
    "dff_result_last_warmmap=dff_result_last_2[['Antecedent','Consequent','Confidence']]\n",
    "dff_result_last_warmmap_2=dff_result_last_warmmap.copy()\n",
    "dff_result_last_warmmap_2 = dff_result_last_warmmap_2[['Consequent', 'Antecedent', 'Confidence']]\n",
    "dff_result_last_warmmap_2.columns=['Antecedent','Consequent','Confidence']\n",
    "frames = [dff_result_last_warmmap, dff_result_last_warmmap_2]\n",
    "dff_result_last_warmmap_3 = pd.concat(frames)\n",
    "dff_result_last_warmmap_3=dff_result_last_warmmap_3.dropna()\n",
    "dff_result_last_warmmap_3"
   ]
  },
  {
   "cell_type": "code",
   "execution_count": 81,
   "metadata": {},
   "outputs": [],
   "source": [
    "summary = dff_result_last_warmmap_3.set_index(['Antecedent', 'Consequent']).unstack().fillna(0)\n",
    "#convert to array\n",
    "corr_array  = np.array(summary)\n",
    "matrix_cols = summary.columns.tolist()\n",
    "matrix_cols_=pd.DataFrame(data=matrix_cols)  \n",
    "matrix_cols_=matrix_cols_[[1]]\n",
    "matrix_cols_=matrix_cols_.to_numpy()\n",
    "matrix_cols_=matrix_cols_.tolist()\n",
    "flat_list = []\n",
    "for sublist in matrix_cols_:\n",
    "    for item in sublist:\n",
    "        flat_list.append(item)"
   ]
  },
  {
   "cell_type": "code",
   "execution_count": 82,
   "metadata": {
    "scrolled": true
   },
   "outputs": [
    {
     "data": {
      "text/plain": [
       "['Beverages',\n",
       " 'Bread',\n",
       " 'Cacao Powder',\n",
       " 'Canned Food',\n",
       " 'Cereals',\n",
       " 'Cheese',\n",
       " 'Chicken & Meat',\n",
       " 'Chips',\n",
       " 'Chocalate',\n",
       " 'Coffee & Tea',\n",
       " 'Eggs',\n",
       " 'Milk',\n",
       " 'Nuts',\n",
       " 'Spagetti',\n",
       " 'Toilet Paper']"
      ]
     },
     "execution_count": 82,
     "metadata": {},
     "output_type": "execute_result"
    }
   ],
   "source": [
    "flat_list"
   ]
  },
  {
   "cell_type": "code",
   "execution_count": 85,
   "metadata": {},
   "outputs": [],
   "source": [
    "#Plotting\n",
    "trace = go.Heatmap(z = corr_array,\n",
    "                   x = flat_list,\n",
    "                   y = flat_list,\n",
    "                   colorscale = \"rainbow\",\n",
    "                   colorbar   = dict(title = \"Confidence value\",\n",
    "                                     titleside = \"right\"\n",
    "                                    ) ,\n",
    "                  )\n",
    "\n",
    "layout = go.Layout(dict(title = \"Basket Analysis with Apriori Algorithm\",\n",
    "                        autosize = False,\n",
    "                        height  = 720,\n",
    "                        width   = 800,\n",
    "                        margin  = dict(r = 0 ,l = 210,\n",
    "                                       t = 25,b = 210,\n",
    "                                      ),\n",
    "                        yaxis   = dict(tickfont = dict(size = 9)),\n",
    "                        xaxis   = dict(tickfont = dict(size = 9))\n",
    "                       )\n",
    "                  )\n",
    "\n",
    "data = [trace]\n",
    "fig = go.Figure(data=data,layout=layout)"
   ]
  },
  {
   "cell_type": "code",
   "execution_count": 86,
   "metadata": {},
   "outputs": [
    {
     "data": {
      "application/vnd.plotly.v1+json": {
       "config": {
        "linkText": "Export to plot.ly",
        "plotlyServerURL": "https://plot.ly",
        "showLink": false
       },
       "data": [
        {
         "colorbar": {
          "title": {
           "side": "right",
           "text": "Confidence value"
          }
         },
         "colorscale": [
          [
           0,
           "rgb(150,0,90)"
          ],
          [
           0.125,
           "rgb(0,0,200)"
          ],
          [
           0.25,
           "rgb(0,25,255)"
          ],
          [
           0.375,
           "rgb(0,152,255)"
          ],
          [
           0.5,
           "rgb(44,255,150)"
          ],
          [
           0.625,
           "rgb(151,255,0)"
          ],
          [
           0.75,
           "rgb(255,234,0)"
          ],
          [
           0.875,
           "rgb(255,111,0)"
          ],
          [
           1,
           "rgb(255,0,0)"
          ]
         ],
         "type": "heatmap",
         "x": [
          "Beverages",
          "Bread",
          "Cacao Powder",
          "Canned Food",
          "Cereals",
          "Cheese",
          "Chicken & Meat",
          "Chips",
          "Chocalate",
          "Coffee & Tea",
          "Eggs",
          "Milk",
          "Nuts",
          "Spagetti",
          "Toilet Paper"
         ],
         "y": [
          "Beverages",
          "Bread",
          "Cacao Powder",
          "Canned Food",
          "Cereals",
          "Cheese",
          "Chicken & Meat",
          "Chips",
          "Chocalate",
          "Coffee & Tea",
          "Eggs",
          "Milk",
          "Nuts",
          "Spagetti",
          "Toilet Paper"
         ],
         "z": [
          [
           0,
           0,
           0,
           0,
           0,
           0,
           0,
           0,
           0.542648067688086,
           0,
           0,
           0,
           0,
           0,
           0
          ],
          [
           0,
           0,
           0,
           0,
           0,
           0.5086765628266778,
           0,
           0,
           0,
           0,
           0,
           0,
           0,
           0,
           0
          ],
          [
           0,
           0,
           0,
           0,
           0,
           0.5544349625032324,
           0,
           0,
           0.5213343677269201,
           0,
           0,
           0,
           0,
           0,
           0
          ],
          [
           0,
           0,
           0,
           0,
           0,
           0.561214953271028,
           0,
           0,
           0,
           0,
           0,
           0,
           0,
           0,
           0
          ],
          [
           0,
           0,
           0,
           0,
           0,
           0.6945224719101124,
           0,
           0,
           0,
           0,
           0,
           0,
           0,
           0,
           0
          ],
          [
           0,
           0.5086765628266778,
           0.5544349625032324,
           0.561214953271028,
           0.6945224719101124,
           0,
           0.5308132147395171,
           0,
           0,
           0,
           0.6266233766233767,
           0.5199365205316405,
           0,
           0.5742630385487529,
           0.504697592483852
          ],
          [
           0,
           0,
           0,
           0,
           0,
           0.5308132147395171,
           0,
           0,
           0,
           0,
           0,
           0,
           0,
           0,
           0
          ],
          [
           0,
           0,
           0,
           0,
           0,
           0,
           0,
           0,
           0.6645689112649464,
           0,
           0,
           0,
           0,
           0,
           0
          ],
          [
           0.542648067688086,
           0,
           0.5213343677269201,
           0,
           0,
           0,
           0,
           0.6645689112649464,
           0,
           0.6038781163434903,
           0,
           0.5334259075580242,
           0.6256520405032219,
           0.5178571428571429,
           0
          ],
          [
           0,
           0,
           0,
           0,
           0,
           0,
           0,
           0,
           0.6038781163434903,
           0,
           0,
           0,
           0,
           0,
           0
          ],
          [
           0,
           0,
           0,
           0,
           0,
           0.6266233766233767,
           0,
           0,
           0,
           0,
           0,
           0,
           0,
           0,
           0
          ],
          [
           0,
           0,
           0,
           0,
           0,
           0.5199365205316405,
           0,
           0,
           0.5334259075580242,
           0,
           0,
           0,
           0,
           0,
           0
          ],
          [
           0,
           0,
           0,
           0,
           0,
           0,
           0,
           0,
           0.6256520405032219,
           0,
           0,
           0,
           0,
           0,
           0
          ],
          [
           0,
           0,
           0,
           0,
           0,
           0.5742630385487529,
           0,
           0,
           0.5178571428571429,
           0,
           0,
           0,
           0,
           0,
           0
          ],
          [
           0,
           0,
           0,
           0,
           0,
           0.504697592483852,
           0,
           0,
           0,
           0,
           0,
           0,
           0,
           0,
           0
          ]
         ]
        }
       ],
       "layout": {
        "autosize": false,
        "height": 720,
        "margin": {
         "b": 210,
         "l": 210,
         "r": 0,
         "t": 25
        },
        "template": {
         "data": {
          "bar": [
           {
            "error_x": {
             "color": "#2a3f5f"
            },
            "error_y": {
             "color": "#2a3f5f"
            },
            "marker": {
             "line": {
              "color": "#E5ECF6",
              "width": 0.5
             }
            },
            "type": "bar"
           }
          ],
          "barpolar": [
           {
            "marker": {
             "line": {
              "color": "#E5ECF6",
              "width": 0.5
             }
            },
            "type": "barpolar"
           }
          ],
          "carpet": [
           {
            "aaxis": {
             "endlinecolor": "#2a3f5f",
             "gridcolor": "white",
             "linecolor": "white",
             "minorgridcolor": "white",
             "startlinecolor": "#2a3f5f"
            },
            "baxis": {
             "endlinecolor": "#2a3f5f",
             "gridcolor": "white",
             "linecolor": "white",
             "minorgridcolor": "white",
             "startlinecolor": "#2a3f5f"
            },
            "type": "carpet"
           }
          ],
          "choropleth": [
           {
            "colorbar": {
             "outlinewidth": 0,
             "ticks": ""
            },
            "type": "choropleth"
           }
          ],
          "contour": [
           {
            "colorbar": {
             "outlinewidth": 0,
             "ticks": ""
            },
            "colorscale": [
             [
              0,
              "#0d0887"
             ],
             [
              0.1111111111111111,
              "#46039f"
             ],
             [
              0.2222222222222222,
              "#7201a8"
             ],
             [
              0.3333333333333333,
              "#9c179e"
             ],
             [
              0.4444444444444444,
              "#bd3786"
             ],
             [
              0.5555555555555556,
              "#d8576b"
             ],
             [
              0.6666666666666666,
              "#ed7953"
             ],
             [
              0.7777777777777778,
              "#fb9f3a"
             ],
             [
              0.8888888888888888,
              "#fdca26"
             ],
             [
              1,
              "#f0f921"
             ]
            ],
            "type": "contour"
           }
          ],
          "contourcarpet": [
           {
            "colorbar": {
             "outlinewidth": 0,
             "ticks": ""
            },
            "type": "contourcarpet"
           }
          ],
          "heatmap": [
           {
            "colorbar": {
             "outlinewidth": 0,
             "ticks": ""
            },
            "colorscale": [
             [
              0,
              "#0d0887"
             ],
             [
              0.1111111111111111,
              "#46039f"
             ],
             [
              0.2222222222222222,
              "#7201a8"
             ],
             [
              0.3333333333333333,
              "#9c179e"
             ],
             [
              0.4444444444444444,
              "#bd3786"
             ],
             [
              0.5555555555555556,
              "#d8576b"
             ],
             [
              0.6666666666666666,
              "#ed7953"
             ],
             [
              0.7777777777777778,
              "#fb9f3a"
             ],
             [
              0.8888888888888888,
              "#fdca26"
             ],
             [
              1,
              "#f0f921"
             ]
            ],
            "type": "heatmap"
           }
          ],
          "heatmapgl": [
           {
            "colorbar": {
             "outlinewidth": 0,
             "ticks": ""
            },
            "colorscale": [
             [
              0,
              "#0d0887"
             ],
             [
              0.1111111111111111,
              "#46039f"
             ],
             [
              0.2222222222222222,
              "#7201a8"
             ],
             [
              0.3333333333333333,
              "#9c179e"
             ],
             [
              0.4444444444444444,
              "#bd3786"
             ],
             [
              0.5555555555555556,
              "#d8576b"
             ],
             [
              0.6666666666666666,
              "#ed7953"
             ],
             [
              0.7777777777777778,
              "#fb9f3a"
             ],
             [
              0.8888888888888888,
              "#fdca26"
             ],
             [
              1,
              "#f0f921"
             ]
            ],
            "type": "heatmapgl"
           }
          ],
          "histogram": [
           {
            "marker": {
             "colorbar": {
              "outlinewidth": 0,
              "ticks": ""
             }
            },
            "type": "histogram"
           }
          ],
          "histogram2d": [
           {
            "colorbar": {
             "outlinewidth": 0,
             "ticks": ""
            },
            "colorscale": [
             [
              0,
              "#0d0887"
             ],
             [
              0.1111111111111111,
              "#46039f"
             ],
             [
              0.2222222222222222,
              "#7201a8"
             ],
             [
              0.3333333333333333,
              "#9c179e"
             ],
             [
              0.4444444444444444,
              "#bd3786"
             ],
             [
              0.5555555555555556,
              "#d8576b"
             ],
             [
              0.6666666666666666,
              "#ed7953"
             ],
             [
              0.7777777777777778,
              "#fb9f3a"
             ],
             [
              0.8888888888888888,
              "#fdca26"
             ],
             [
              1,
              "#f0f921"
             ]
            ],
            "type": "histogram2d"
           }
          ],
          "histogram2dcontour": [
           {
            "colorbar": {
             "outlinewidth": 0,
             "ticks": ""
            },
            "colorscale": [
             [
              0,
              "#0d0887"
             ],
             [
              0.1111111111111111,
              "#46039f"
             ],
             [
              0.2222222222222222,
              "#7201a8"
             ],
             [
              0.3333333333333333,
              "#9c179e"
             ],
             [
              0.4444444444444444,
              "#bd3786"
             ],
             [
              0.5555555555555556,
              "#d8576b"
             ],
             [
              0.6666666666666666,
              "#ed7953"
             ],
             [
              0.7777777777777778,
              "#fb9f3a"
             ],
             [
              0.8888888888888888,
              "#fdca26"
             ],
             [
              1,
              "#f0f921"
             ]
            ],
            "type": "histogram2dcontour"
           }
          ],
          "mesh3d": [
           {
            "colorbar": {
             "outlinewidth": 0,
             "ticks": ""
            },
            "type": "mesh3d"
           }
          ],
          "parcoords": [
           {
            "line": {
             "colorbar": {
              "outlinewidth": 0,
              "ticks": ""
             }
            },
            "type": "parcoords"
           }
          ],
          "pie": [
           {
            "automargin": true,
            "type": "pie"
           }
          ],
          "scatter": [
           {
            "marker": {
             "colorbar": {
              "outlinewidth": 0,
              "ticks": ""
             }
            },
            "type": "scatter"
           }
          ],
          "scatter3d": [
           {
            "line": {
             "colorbar": {
              "outlinewidth": 0,
              "ticks": ""
             }
            },
            "marker": {
             "colorbar": {
              "outlinewidth": 0,
              "ticks": ""
             }
            },
            "type": "scatter3d"
           }
          ],
          "scattercarpet": [
           {
            "marker": {
             "colorbar": {
              "outlinewidth": 0,
              "ticks": ""
             }
            },
            "type": "scattercarpet"
           }
          ],
          "scattergeo": [
           {
            "marker": {
             "colorbar": {
              "outlinewidth": 0,
              "ticks": ""
             }
            },
            "type": "scattergeo"
           }
          ],
          "scattergl": [
           {
            "marker": {
             "colorbar": {
              "outlinewidth": 0,
              "ticks": ""
             }
            },
            "type": "scattergl"
           }
          ],
          "scattermapbox": [
           {
            "marker": {
             "colorbar": {
              "outlinewidth": 0,
              "ticks": ""
             }
            },
            "type": "scattermapbox"
           }
          ],
          "scatterpolar": [
           {
            "marker": {
             "colorbar": {
              "outlinewidth": 0,
              "ticks": ""
             }
            },
            "type": "scatterpolar"
           }
          ],
          "scatterpolargl": [
           {
            "marker": {
             "colorbar": {
              "outlinewidth": 0,
              "ticks": ""
             }
            },
            "type": "scatterpolargl"
           }
          ],
          "scatterternary": [
           {
            "marker": {
             "colorbar": {
              "outlinewidth": 0,
              "ticks": ""
             }
            },
            "type": "scatterternary"
           }
          ],
          "surface": [
           {
            "colorbar": {
             "outlinewidth": 0,
             "ticks": ""
            },
            "colorscale": [
             [
              0,
              "#0d0887"
             ],
             [
              0.1111111111111111,
              "#46039f"
             ],
             [
              0.2222222222222222,
              "#7201a8"
             ],
             [
              0.3333333333333333,
              "#9c179e"
             ],
             [
              0.4444444444444444,
              "#bd3786"
             ],
             [
              0.5555555555555556,
              "#d8576b"
             ],
             [
              0.6666666666666666,
              "#ed7953"
             ],
             [
              0.7777777777777778,
              "#fb9f3a"
             ],
             [
              0.8888888888888888,
              "#fdca26"
             ],
             [
              1,
              "#f0f921"
             ]
            ],
            "type": "surface"
           }
          ],
          "table": [
           {
            "cells": {
             "fill": {
              "color": "#EBF0F8"
             },
             "line": {
              "color": "white"
             }
            },
            "header": {
             "fill": {
              "color": "#C8D4E3"
             },
             "line": {
              "color": "white"
             }
            },
            "type": "table"
           }
          ]
         },
         "layout": {
          "annotationdefaults": {
           "arrowcolor": "#2a3f5f",
           "arrowhead": 0,
           "arrowwidth": 1
          },
          "coloraxis": {
           "colorbar": {
            "outlinewidth": 0,
            "ticks": ""
           }
          },
          "colorscale": {
           "diverging": [
            [
             0,
             "#8e0152"
            ],
            [
             0.1,
             "#c51b7d"
            ],
            [
             0.2,
             "#de77ae"
            ],
            [
             0.3,
             "#f1b6da"
            ],
            [
             0.4,
             "#fde0ef"
            ],
            [
             0.5,
             "#f7f7f7"
            ],
            [
             0.6,
             "#e6f5d0"
            ],
            [
             0.7,
             "#b8e186"
            ],
            [
             0.8,
             "#7fbc41"
            ],
            [
             0.9,
             "#4d9221"
            ],
            [
             1,
             "#276419"
            ]
           ],
           "sequential": [
            [
             0,
             "#0d0887"
            ],
            [
             0.1111111111111111,
             "#46039f"
            ],
            [
             0.2222222222222222,
             "#7201a8"
            ],
            [
             0.3333333333333333,
             "#9c179e"
            ],
            [
             0.4444444444444444,
             "#bd3786"
            ],
            [
             0.5555555555555556,
             "#d8576b"
            ],
            [
             0.6666666666666666,
             "#ed7953"
            ],
            [
             0.7777777777777778,
             "#fb9f3a"
            ],
            [
             0.8888888888888888,
             "#fdca26"
            ],
            [
             1,
             "#f0f921"
            ]
           ],
           "sequentialminus": [
            [
             0,
             "#0d0887"
            ],
            [
             0.1111111111111111,
             "#46039f"
            ],
            [
             0.2222222222222222,
             "#7201a8"
            ],
            [
             0.3333333333333333,
             "#9c179e"
            ],
            [
             0.4444444444444444,
             "#bd3786"
            ],
            [
             0.5555555555555556,
             "#d8576b"
            ],
            [
             0.6666666666666666,
             "#ed7953"
            ],
            [
             0.7777777777777778,
             "#fb9f3a"
            ],
            [
             0.8888888888888888,
             "#fdca26"
            ],
            [
             1,
             "#f0f921"
            ]
           ]
          },
          "colorway": [
           "#636efa",
           "#EF553B",
           "#00cc96",
           "#ab63fa",
           "#FFA15A",
           "#19d3f3",
           "#FF6692",
           "#B6E880",
           "#FF97FF",
           "#FECB52"
          ],
          "font": {
           "color": "#2a3f5f"
          },
          "geo": {
           "bgcolor": "white",
           "lakecolor": "white",
           "landcolor": "#E5ECF6",
           "showlakes": true,
           "showland": true,
           "subunitcolor": "white"
          },
          "hoverlabel": {
           "align": "left"
          },
          "hovermode": "closest",
          "mapbox": {
           "style": "light"
          },
          "paper_bgcolor": "white",
          "plot_bgcolor": "#E5ECF6",
          "polar": {
           "angularaxis": {
            "gridcolor": "white",
            "linecolor": "white",
            "ticks": ""
           },
           "bgcolor": "#E5ECF6",
           "radialaxis": {
            "gridcolor": "white",
            "linecolor": "white",
            "ticks": ""
           }
          },
          "scene": {
           "xaxis": {
            "backgroundcolor": "#E5ECF6",
            "gridcolor": "white",
            "gridwidth": 2,
            "linecolor": "white",
            "showbackground": true,
            "ticks": "",
            "zerolinecolor": "white"
           },
           "yaxis": {
            "backgroundcolor": "#E5ECF6",
            "gridcolor": "white",
            "gridwidth": 2,
            "linecolor": "white",
            "showbackground": true,
            "ticks": "",
            "zerolinecolor": "white"
           },
           "zaxis": {
            "backgroundcolor": "#E5ECF6",
            "gridcolor": "white",
            "gridwidth": 2,
            "linecolor": "white",
            "showbackground": true,
            "ticks": "",
            "zerolinecolor": "white"
           }
          },
          "shapedefaults": {
           "line": {
            "color": "#2a3f5f"
           }
          },
          "ternary": {
           "aaxis": {
            "gridcolor": "white",
            "linecolor": "white",
            "ticks": ""
           },
           "baxis": {
            "gridcolor": "white",
            "linecolor": "white",
            "ticks": ""
           },
           "bgcolor": "#E5ECF6",
           "caxis": {
            "gridcolor": "white",
            "linecolor": "white",
            "ticks": ""
           }
          },
          "title": {
           "x": 0.05
          },
          "xaxis": {
           "automargin": true,
           "gridcolor": "white",
           "linecolor": "white",
           "ticks": "",
           "title": {
            "standoff": 15
           },
           "zerolinecolor": "white",
           "zerolinewidth": 2
          },
          "yaxis": {
           "automargin": true,
           "gridcolor": "white",
           "linecolor": "white",
           "ticks": "",
           "title": {
            "standoff": 15
           },
           "zerolinecolor": "white",
           "zerolinewidth": 2
          }
         }
        },
        "title": {
         "text": "Basket Analysis with Apriori Algorithm"
        },
        "width": 800,
        "xaxis": {
         "tickfont": {
          "size": 9
         }
        },
        "yaxis": {
         "tickfont": {
          "size": 9
         }
        }
       }
      },
      "text/html": [
       "<div>\n",
       "        \n",
       "        \n",
       "            <div id=\"4eb93e98-3163-40ed-95c9-2e03a1988c3f\" class=\"plotly-graph-div\" style=\"height:720px; width:800px;\"></div>\n",
       "            <script type=\"text/javascript\">\n",
       "                require([\"plotly\"], function(Plotly) {\n",
       "                    window.PLOTLYENV=window.PLOTLYENV || {};\n",
       "                    \n",
       "                if (document.getElementById(\"4eb93e98-3163-40ed-95c9-2e03a1988c3f\")) {\n",
       "                    Plotly.newPlot(\n",
       "                        '4eb93e98-3163-40ed-95c9-2e03a1988c3f',\n",
       "                        [{\"colorbar\": {\"title\": {\"side\": \"right\", \"text\": \"Confidence value\"}}, \"colorscale\": [[0.0, \"rgb(150,0,90)\"], [0.125, \"rgb(0,0,200)\"], [0.25, \"rgb(0,25,255)\"], [0.375, \"rgb(0,152,255)\"], [0.5, \"rgb(44,255,150)\"], [0.625, \"rgb(151,255,0)\"], [0.75, \"rgb(255,234,0)\"], [0.875, \"rgb(255,111,0)\"], [1.0, \"rgb(255,0,0)\"]], \"type\": \"heatmap\", \"x\": [\"Beverages\", \"Bread\", \"Cacao Powder\", \"Canned Food\", \"Cereals\", \"Cheese\", \"Chicken & Meat\", \"Chips\", \"Chocalate\", \"Coffee & Tea\", \"Eggs\", \"Milk\", \"Nuts\", \"Spagetti\", \"Toilet Paper\"], \"y\": [\"Beverages\", \"Bread\", \"Cacao Powder\", \"Canned Food\", \"Cereals\", \"Cheese\", \"Chicken & Meat\", \"Chips\", \"Chocalate\", \"Coffee & Tea\", \"Eggs\", \"Milk\", \"Nuts\", \"Spagetti\", \"Toilet Paper\"], \"z\": [[0.0, 0.0, 0.0, 0.0, 0.0, 0.0, 0.0, 0.0, 0.542648067688086, 0.0, 0.0, 0.0, 0.0, 0.0, 0.0], [0.0, 0.0, 0.0, 0.0, 0.0, 0.5086765628266778, 0.0, 0.0, 0.0, 0.0, 0.0, 0.0, 0.0, 0.0, 0.0], [0.0, 0.0, 0.0, 0.0, 0.0, 0.5544349625032324, 0.0, 0.0, 0.5213343677269201, 0.0, 0.0, 0.0, 0.0, 0.0, 0.0], [0.0, 0.0, 0.0, 0.0, 0.0, 0.561214953271028, 0.0, 0.0, 0.0, 0.0, 0.0, 0.0, 0.0, 0.0, 0.0], [0.0, 0.0, 0.0, 0.0, 0.0, 0.6945224719101124, 0.0, 0.0, 0.0, 0.0, 0.0, 0.0, 0.0, 0.0, 0.0], [0.0, 0.5086765628266778, 0.5544349625032324, 0.561214953271028, 0.6945224719101124, 0.0, 0.5308132147395171, 0.0, 0.0, 0.0, 0.6266233766233767, 0.5199365205316405, 0.0, 0.5742630385487529, 0.504697592483852], [0.0, 0.0, 0.0, 0.0, 0.0, 0.5308132147395171, 0.0, 0.0, 0.0, 0.0, 0.0, 0.0, 0.0, 0.0, 0.0], [0.0, 0.0, 0.0, 0.0, 0.0, 0.0, 0.0, 0.0, 0.6645689112649464, 0.0, 0.0, 0.0, 0.0, 0.0, 0.0], [0.542648067688086, 0.0, 0.5213343677269201, 0.0, 0.0, 0.0, 0.0, 0.6645689112649464, 0.0, 0.6038781163434903, 0.0, 0.5334259075580242, 0.6256520405032219, 0.5178571428571429, 0.0], [0.0, 0.0, 0.0, 0.0, 0.0, 0.0, 0.0, 0.0, 0.6038781163434903, 0.0, 0.0, 0.0, 0.0, 0.0, 0.0], [0.0, 0.0, 0.0, 0.0, 0.0, 0.6266233766233767, 0.0, 0.0, 0.0, 0.0, 0.0, 0.0, 0.0, 0.0, 0.0], [0.0, 0.0, 0.0, 0.0, 0.0, 0.5199365205316405, 0.0, 0.0, 0.5334259075580242, 0.0, 0.0, 0.0, 0.0, 0.0, 0.0], [0.0, 0.0, 0.0, 0.0, 0.0, 0.0, 0.0, 0.0, 0.6256520405032219, 0.0, 0.0, 0.0, 0.0, 0.0, 0.0], [0.0, 0.0, 0.0, 0.0, 0.0, 0.5742630385487529, 0.0, 0.0, 0.5178571428571429, 0.0, 0.0, 0.0, 0.0, 0.0, 0.0], [0.0, 0.0, 0.0, 0.0, 0.0, 0.504697592483852, 0.0, 0.0, 0.0, 0.0, 0.0, 0.0, 0.0, 0.0, 0.0]]}],\n",
       "                        {\"autosize\": false, \"height\": 720, \"margin\": {\"b\": 210, \"l\": 210, \"r\": 0, \"t\": 25}, \"template\": {\"data\": {\"bar\": [{\"error_x\": {\"color\": \"#2a3f5f\"}, \"error_y\": {\"color\": \"#2a3f5f\"}, \"marker\": {\"line\": {\"color\": \"#E5ECF6\", \"width\": 0.5}}, \"type\": \"bar\"}], \"barpolar\": [{\"marker\": {\"line\": {\"color\": \"#E5ECF6\", \"width\": 0.5}}, \"type\": \"barpolar\"}], \"carpet\": [{\"aaxis\": {\"endlinecolor\": \"#2a3f5f\", \"gridcolor\": \"white\", \"linecolor\": \"white\", \"minorgridcolor\": \"white\", \"startlinecolor\": \"#2a3f5f\"}, \"baxis\": {\"endlinecolor\": \"#2a3f5f\", \"gridcolor\": \"white\", \"linecolor\": \"white\", \"minorgridcolor\": \"white\", \"startlinecolor\": \"#2a3f5f\"}, \"type\": \"carpet\"}], \"choropleth\": [{\"colorbar\": {\"outlinewidth\": 0, \"ticks\": \"\"}, \"type\": \"choropleth\"}], \"contour\": [{\"colorbar\": {\"outlinewidth\": 0, \"ticks\": \"\"}, \"colorscale\": [[0.0, \"#0d0887\"], [0.1111111111111111, \"#46039f\"], [0.2222222222222222, \"#7201a8\"], [0.3333333333333333, \"#9c179e\"], [0.4444444444444444, \"#bd3786\"], [0.5555555555555556, \"#d8576b\"], [0.6666666666666666, \"#ed7953\"], [0.7777777777777778, \"#fb9f3a\"], [0.8888888888888888, \"#fdca26\"], [1.0, \"#f0f921\"]], \"type\": \"contour\"}], \"contourcarpet\": [{\"colorbar\": {\"outlinewidth\": 0, \"ticks\": \"\"}, \"type\": \"contourcarpet\"}], \"heatmap\": [{\"colorbar\": {\"outlinewidth\": 0, \"ticks\": \"\"}, \"colorscale\": [[0.0, \"#0d0887\"], [0.1111111111111111, \"#46039f\"], [0.2222222222222222, \"#7201a8\"], [0.3333333333333333, \"#9c179e\"], [0.4444444444444444, \"#bd3786\"], [0.5555555555555556, \"#d8576b\"], [0.6666666666666666, \"#ed7953\"], [0.7777777777777778, \"#fb9f3a\"], [0.8888888888888888, \"#fdca26\"], [1.0, \"#f0f921\"]], \"type\": \"heatmap\"}], \"heatmapgl\": [{\"colorbar\": {\"outlinewidth\": 0, \"ticks\": \"\"}, \"colorscale\": [[0.0, \"#0d0887\"], [0.1111111111111111, \"#46039f\"], [0.2222222222222222, \"#7201a8\"], [0.3333333333333333, \"#9c179e\"], [0.4444444444444444, \"#bd3786\"], [0.5555555555555556, \"#d8576b\"], [0.6666666666666666, \"#ed7953\"], [0.7777777777777778, \"#fb9f3a\"], [0.8888888888888888, \"#fdca26\"], [1.0, \"#f0f921\"]], \"type\": \"heatmapgl\"}], \"histogram\": [{\"marker\": {\"colorbar\": {\"outlinewidth\": 0, \"ticks\": \"\"}}, \"type\": \"histogram\"}], \"histogram2d\": [{\"colorbar\": {\"outlinewidth\": 0, \"ticks\": \"\"}, \"colorscale\": [[0.0, \"#0d0887\"], [0.1111111111111111, \"#46039f\"], [0.2222222222222222, \"#7201a8\"], [0.3333333333333333, \"#9c179e\"], [0.4444444444444444, \"#bd3786\"], [0.5555555555555556, \"#d8576b\"], [0.6666666666666666, \"#ed7953\"], [0.7777777777777778, \"#fb9f3a\"], [0.8888888888888888, \"#fdca26\"], [1.0, \"#f0f921\"]], \"type\": \"histogram2d\"}], \"histogram2dcontour\": [{\"colorbar\": {\"outlinewidth\": 0, \"ticks\": \"\"}, \"colorscale\": [[0.0, \"#0d0887\"], [0.1111111111111111, \"#46039f\"], [0.2222222222222222, \"#7201a8\"], [0.3333333333333333, \"#9c179e\"], [0.4444444444444444, \"#bd3786\"], [0.5555555555555556, \"#d8576b\"], [0.6666666666666666, \"#ed7953\"], [0.7777777777777778, \"#fb9f3a\"], [0.8888888888888888, \"#fdca26\"], [1.0, \"#f0f921\"]], \"type\": \"histogram2dcontour\"}], \"mesh3d\": [{\"colorbar\": {\"outlinewidth\": 0, \"ticks\": \"\"}, \"type\": \"mesh3d\"}], \"parcoords\": [{\"line\": {\"colorbar\": {\"outlinewidth\": 0, \"ticks\": \"\"}}, \"type\": \"parcoords\"}], \"pie\": [{\"automargin\": true, \"type\": \"pie\"}], \"scatter\": [{\"marker\": {\"colorbar\": {\"outlinewidth\": 0, \"ticks\": \"\"}}, \"type\": \"scatter\"}], \"scatter3d\": [{\"line\": {\"colorbar\": {\"outlinewidth\": 0, \"ticks\": \"\"}}, \"marker\": {\"colorbar\": {\"outlinewidth\": 0, \"ticks\": \"\"}}, \"type\": \"scatter3d\"}], \"scattercarpet\": [{\"marker\": {\"colorbar\": {\"outlinewidth\": 0, \"ticks\": \"\"}}, \"type\": \"scattercarpet\"}], \"scattergeo\": [{\"marker\": {\"colorbar\": {\"outlinewidth\": 0, \"ticks\": \"\"}}, \"type\": \"scattergeo\"}], \"scattergl\": [{\"marker\": {\"colorbar\": {\"outlinewidth\": 0, \"ticks\": \"\"}}, \"type\": \"scattergl\"}], \"scattermapbox\": [{\"marker\": {\"colorbar\": {\"outlinewidth\": 0, \"ticks\": \"\"}}, \"type\": \"scattermapbox\"}], \"scatterpolar\": [{\"marker\": {\"colorbar\": {\"outlinewidth\": 0, \"ticks\": \"\"}}, \"type\": \"scatterpolar\"}], \"scatterpolargl\": [{\"marker\": {\"colorbar\": {\"outlinewidth\": 0, \"ticks\": \"\"}}, \"type\": \"scatterpolargl\"}], \"scatterternary\": [{\"marker\": {\"colorbar\": {\"outlinewidth\": 0, \"ticks\": \"\"}}, \"type\": \"scatterternary\"}], \"surface\": [{\"colorbar\": {\"outlinewidth\": 0, \"ticks\": \"\"}, \"colorscale\": [[0.0, \"#0d0887\"], [0.1111111111111111, \"#46039f\"], [0.2222222222222222, \"#7201a8\"], [0.3333333333333333, \"#9c179e\"], [0.4444444444444444, \"#bd3786\"], [0.5555555555555556, \"#d8576b\"], [0.6666666666666666, \"#ed7953\"], [0.7777777777777778, \"#fb9f3a\"], [0.8888888888888888, \"#fdca26\"], [1.0, \"#f0f921\"]], \"type\": \"surface\"}], \"table\": [{\"cells\": {\"fill\": {\"color\": \"#EBF0F8\"}, \"line\": {\"color\": \"white\"}}, \"header\": {\"fill\": {\"color\": \"#C8D4E3\"}, \"line\": {\"color\": \"white\"}}, \"type\": \"table\"}]}, \"layout\": {\"annotationdefaults\": {\"arrowcolor\": \"#2a3f5f\", \"arrowhead\": 0, \"arrowwidth\": 1}, \"coloraxis\": {\"colorbar\": {\"outlinewidth\": 0, \"ticks\": \"\"}}, \"colorscale\": {\"diverging\": [[0, \"#8e0152\"], [0.1, \"#c51b7d\"], [0.2, \"#de77ae\"], [0.3, \"#f1b6da\"], [0.4, \"#fde0ef\"], [0.5, \"#f7f7f7\"], [0.6, \"#e6f5d0\"], [0.7, \"#b8e186\"], [0.8, \"#7fbc41\"], [0.9, \"#4d9221\"], [1, \"#276419\"]], \"sequential\": [[0.0, \"#0d0887\"], [0.1111111111111111, \"#46039f\"], [0.2222222222222222, \"#7201a8\"], [0.3333333333333333, \"#9c179e\"], [0.4444444444444444, \"#bd3786\"], [0.5555555555555556, \"#d8576b\"], [0.6666666666666666, \"#ed7953\"], [0.7777777777777778, \"#fb9f3a\"], [0.8888888888888888, \"#fdca26\"], [1.0, \"#f0f921\"]], \"sequentialminus\": [[0.0, \"#0d0887\"], [0.1111111111111111, \"#46039f\"], [0.2222222222222222, \"#7201a8\"], [0.3333333333333333, \"#9c179e\"], [0.4444444444444444, \"#bd3786\"], [0.5555555555555556, \"#d8576b\"], [0.6666666666666666, \"#ed7953\"], [0.7777777777777778, \"#fb9f3a\"], [0.8888888888888888, \"#fdca26\"], [1.0, \"#f0f921\"]]}, \"colorway\": [\"#636efa\", \"#EF553B\", \"#00cc96\", \"#ab63fa\", \"#FFA15A\", \"#19d3f3\", \"#FF6692\", \"#B6E880\", \"#FF97FF\", \"#FECB52\"], \"font\": {\"color\": \"#2a3f5f\"}, \"geo\": {\"bgcolor\": \"white\", \"lakecolor\": \"white\", \"landcolor\": \"#E5ECF6\", \"showlakes\": true, \"showland\": true, \"subunitcolor\": \"white\"}, \"hoverlabel\": {\"align\": \"left\"}, \"hovermode\": \"closest\", \"mapbox\": {\"style\": \"light\"}, \"paper_bgcolor\": \"white\", \"plot_bgcolor\": \"#E5ECF6\", \"polar\": {\"angularaxis\": {\"gridcolor\": \"white\", \"linecolor\": \"white\", \"ticks\": \"\"}, \"bgcolor\": \"#E5ECF6\", \"radialaxis\": {\"gridcolor\": \"white\", \"linecolor\": \"white\", \"ticks\": \"\"}}, \"scene\": {\"xaxis\": {\"backgroundcolor\": \"#E5ECF6\", \"gridcolor\": \"white\", \"gridwidth\": 2, \"linecolor\": \"white\", \"showbackground\": true, \"ticks\": \"\", \"zerolinecolor\": \"white\"}, \"yaxis\": {\"backgroundcolor\": \"#E5ECF6\", \"gridcolor\": \"white\", \"gridwidth\": 2, \"linecolor\": \"white\", \"showbackground\": true, \"ticks\": \"\", \"zerolinecolor\": \"white\"}, \"zaxis\": {\"backgroundcolor\": \"#E5ECF6\", \"gridcolor\": \"white\", \"gridwidth\": 2, \"linecolor\": \"white\", \"showbackground\": true, \"ticks\": \"\", \"zerolinecolor\": \"white\"}}, \"shapedefaults\": {\"line\": {\"color\": \"#2a3f5f\"}}, \"ternary\": {\"aaxis\": {\"gridcolor\": \"white\", \"linecolor\": \"white\", \"ticks\": \"\"}, \"baxis\": {\"gridcolor\": \"white\", \"linecolor\": \"white\", \"ticks\": \"\"}, \"bgcolor\": \"#E5ECF6\", \"caxis\": {\"gridcolor\": \"white\", \"linecolor\": \"white\", \"ticks\": \"\"}}, \"title\": {\"x\": 0.05}, \"xaxis\": {\"automargin\": true, \"gridcolor\": \"white\", \"linecolor\": \"white\", \"ticks\": \"\", \"title\": {\"standoff\": 15}, \"zerolinecolor\": \"white\", \"zerolinewidth\": 2}, \"yaxis\": {\"automargin\": true, \"gridcolor\": \"white\", \"linecolor\": \"white\", \"ticks\": \"\", \"title\": {\"standoff\": 15}, \"zerolinecolor\": \"white\", \"zerolinewidth\": 2}}}, \"title\": {\"text\": \"Basket Analysis with Apriori Algorithm\"}, \"width\": 800, \"xaxis\": {\"tickfont\": {\"size\": 9}}, \"yaxis\": {\"tickfont\": {\"size\": 9}}},\n",
       "                        {\"responsive\": true}\n",
       "                    ).then(function(){\n",
       "                            \n",
       "var gd = document.getElementById('4eb93e98-3163-40ed-95c9-2e03a1988c3f');\n",
       "var x = new MutationObserver(function (mutations, observer) {{\n",
       "        var display = window.getComputedStyle(gd).display;\n",
       "        if (!display || display === 'none') {{\n",
       "            console.log([gd, 'removed!']);\n",
       "            Plotly.purge(gd);\n",
       "            observer.disconnect();\n",
       "        }}\n",
       "}});\n",
       "\n",
       "// Listen for the removal of the full notebook cells\n",
       "var notebookContainer = gd.closest('#notebook-container');\n",
       "if (notebookContainer) {{\n",
       "    x.observe(notebookContainer, {childList: true});\n",
       "}}\n",
       "\n",
       "// Listen for the clearing of the current output cell\n",
       "var outputEl = gd.closest('.output');\n",
       "if (outputEl) {{\n",
       "    x.observe(outputEl, {childList: true});\n",
       "}}\n",
       "\n",
       "                        })\n",
       "                };\n",
       "                });\n",
       "            </script>\n",
       "        </div>"
      ]
     },
     "metadata": {},
     "output_type": "display_data"
    }
   ],
   "source": [
    "py.iplot(fig)"
   ]
  },
  {
   "cell_type": "code",
   "execution_count": 89,
   "metadata": {},
   "outputs": [
    {
     "data": {
      "image/png": "[encoded data removed]",
      "text/plain": [
       "<Figure size 720x576 with 2 Axes>"
      ]
     },
     "metadata": {
      "needs_background": "light"
     },
     "output_type": "display_data"
    }
   ],
   "source": [
    "plt.figure(figsize=(10, 8))\n",
    "# plot heatmap\n",
    "ax = sns.heatmap(summary.T,cmap=\"coolwarm\")"
   ]
  },
  {
   "cell_type": "code",
   "execution_count": null,
   "metadata": {},
   "outputs": [],
   "source": []
  }
 ],
 "metadata": {
  "kernelspec": {
   "display_name": "Python 3",
   "language": "python",
   "name": "python3"
  },
  "language_info": {
   "codemirror_mode": {
    "name": "ipython",
    "version": 3
   },
   "file_extension": ".py",
   "mimetype": "text/x-python",
   "name": "python",
   "nbconvert_exporter": "python",
   "pygments_lexer": "ipython3",
   "version": "3.7.6"
  }
 },
 "nbformat": 4,
 "nbformat_minor": 4
}
